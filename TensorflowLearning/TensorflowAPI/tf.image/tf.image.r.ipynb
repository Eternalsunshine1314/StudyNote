{
 "cells": [
  {
   "cell_type": "markdown",
   "metadata": {},
   "source": [
    "## tf.image.random_brightness\n",
    "\n",
    "random_brightness(\n",
    "    image,\n",
    "    max_delta,\n",
    "    seed=None\n",
    ")\n",
    "Defined in tensorflow/python/ops/image_ops_impl.py.\n",
    "\n",
    "See the guide: Images > Image Adjustments\n",
    "\n",
    "Adjust the brightness of images by a random factor.\n",
    "\n",
    "Equivalent to adjust_brightness() using a delta randomly picked in the interval [-max_delta, max_delta).\n",
    "\n",
    "Args:\n",
    "\n",
    "image: An image.\n",
    "max_delta: float, must be non-negative.\n",
    "seed: A Python integer. Used to create a random seed. See tf.set_random_seed for behavior.\n",
    "Returns:\n",
    "\n",
    "The brightness-adjusted image.\n",
    "\n",
    "Raises:\n",
    "\n",
    "ValueError: if max_delta is negative.\n",
    "\n",
    "## tf.image.random_contrast\n",
    "\n",
    "random_contrast(\n",
    "    image,\n",
    "    lower,\n",
    "    upper,\n",
    "    seed=None\n",
    ")\n",
    "Defined in tensorflow/python/ops/image_ops_impl.py.\n",
    "\n",
    "See the guide: Images > Image Adjustments\n",
    "\n",
    "Adjust the contrast of an image by a random factor.\n",
    "\n",
    "Equivalent to adjust_contrast() but uses a contrast_factor randomly picked in the interval [lower, upper].\n",
    "\n",
    "Args:\n",
    "\n",
    "image: An image tensor with 3 or more dimensions.\n",
    "lower: float. Lower bound for the random contrast factor.\n",
    "upper: float. Upper bound for the random contrast factor.\n",
    "seed: A Python integer. Used to create a random seed. See tf.set_random_seed for behavior.\n",
    "Returns:\n",
    "\n",
    "The contrast-adjusted tensor.\n"
   ]
  },
  {
   "cell_type": "markdown",
   "metadata": {
    "collapsed": true
   },
   "source": [
    "## tf.image.random_hue\n",
    "\n",
    "random_hue(\n",
    "    image,\n",
    "    max_delta,\n",
    "    seed=None\n",
    ")\n",
    "Defined in tensorflow/python/ops/image_ops_impl.py.\n",
    "\n",
    "See the guide: Images > Image Adjustments\n",
    "\n",
    "Adjust the hue of an RGB image by a random factor.\n",
    "\n",
    "Equivalent to adjust_hue() but uses a delta randomly picked in the interval [-max_delta, max_delta].\n",
    "\n",
    "max_delta must be in the interval [0, 0.5].\n",
    "\n",
    "Args:\n",
    "\n",
    "image: RGB image or images. Size of the last dimension must be 3.\n",
    "max_delta: float. Maximum value for the random delta.\n",
    "seed: An operation-specific seed. It will be used in conjunction with the graph-level seed to determine the real seeds that will be used in this operation. Please see the documentation of set_random_seed for its interaction with the graph-level random seed.\n",
    "Returns:\n",
    "\n",
    "3-D float tensor of shape [height, width, channels]."
   ]
  },
  {
   "cell_type": "markdown",
   "metadata": {},
   "source": [
    "## tf.image.random_saturation\n",
    "\n",
    "random_saturation(\n",
    "    image,\n",
    "    lower,\n",
    "    upper,\n",
    "    seed=None\n",
    ")\n",
    "Defined in tensorflow/python/ops/image_ops_impl.py.\n",
    "\n",
    "See the guide: Images > Image Adjustments\n",
    "\n",
    "Adjust the saturation of an RGB image by a random factor.\n",
    "\n",
    "Equivalent to adjust_saturation() but uses a saturation_factor randomly picked in the interval [lower, upper].\n",
    "\n",
    "Args:\n",
    "\n",
    "image: RGB image or images. Size of the last dimension must be 3.\n",
    "lower: float. Lower bound for the random saturation factor.\n",
    "upper: float. Upper bound for the random saturation factor.\n",
    "seed: An operation-specific seed. It will be used in conjunction with the graph-level seed to determine the real seeds that will be used in this operation. Please see the documentation of set_random_seed for its interaction with the graph-level random seed.\n",
    "Returns:\n",
    "\n",
    "Adjusted image(s), same shape and DType as image."
   ]
  },
  {
   "cell_type": "markdown",
   "metadata": {
    "collapsed": true
   },
   "source": [
    "## tf.image.random_crop()\n",
    "对图像进行随机采集\n",
    "```\n",
    "tf.image.random_crop(reshaped_image, [height, width])\n",
    "```"
   ]
  },
  {
   "cell_type": "code",
   "execution_count": null,
   "metadata": {
    "collapsed": true
   },
   "outputs": [],
   "source": []
  }
 ],
 "metadata": {
  "kernelspec": {
   "display_name": "Python 3",
   "language": "python",
   "name": "python3"
  },
  "language_info": {
   "codemirror_mode": {
    "name": "ipython",
    "version": 3
   },
   "file_extension": ".py",
   "mimetype": "text/x-python",
   "name": "python",
   "nbconvert_exporter": "python",
   "pygments_lexer": "ipython3",
   "version": "3.6.2"
  }
 },
 "nbformat": 4,
 "nbformat_minor": 2
}
