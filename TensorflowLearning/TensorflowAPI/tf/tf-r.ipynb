{
 "cells": [
  {
   "cell_type": "code",
   "execution_count": 2,
   "metadata": {
    "collapsed": true
   },
   "outputs": [],
   "source": [
    "import tensorflow as tf"
   ]
  },
  {
   "cell_type": "markdown",
   "metadata": {},
   "source": [
    "## tf.reshape()\n",
    "函数原型为 \n",
    "\n",
    "def reshape(tensor, shape, name=None)\n",
    "\n",
    "第1个参数为被调整维度的张量。\n",
    "\n",
    "第2个参数为要调整为的形状。\n",
    "\n",
    "返回一个shape形状的新tensor\n",
    "\n",
    "注意shape里最多有一个维度的值可以填写为-1，表示自动计算此维度。\n",
    "\n",
    "很简单的函数，如下，根据shape为[5,8]的tensor，生成一个新的tensor"
   ]
  },
  {
   "cell_type": "code",
   "execution_count": 3,
   "metadata": {},
   "outputs": [
    {
     "name": "stdout",
     "output_type": "stream",
     "text": [
      "[[1]\n",
      " [2]\n",
      " [3]\n",
      " [4]\n",
      " [5]\n",
      " [6]]\n"
     ]
    }
   ],
   "source": [
    "x_in=[[1,2,3],[4,5,6]]\n",
    "with tf.Session() as sess:\n",
    "    print(sess.run(tf.reshape(x_in,[6,-1])))"
   ]
  },
  {
   "cell_type": "code",
   "execution_count": null,
   "metadata": {
    "collapsed": true
   },
   "outputs": [],
   "source": []
  }
 ],
 "metadata": {
  "kernelspec": {
   "display_name": "Python 3",
   "language": "python",
   "name": "python3"
  },
  "language_info": {
   "codemirror_mode": {
    "name": "ipython",
    "version": 3
   },
   "file_extension": ".py",
   "mimetype": "text/x-python",
   "name": "python",
   "nbconvert_exporter": "python",
   "pygments_lexer": "ipython3",
   "version": "3.6.2"
  }
 },
 "nbformat": 4,
 "nbformat_minor": 2
}
