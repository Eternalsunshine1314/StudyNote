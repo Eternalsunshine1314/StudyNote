{
 "cells": [
  {
   "cell_type": "code",
   "execution_count": 1,
   "metadata": {
    "collapsed": true
   },
   "outputs": [],
   "source": [
    "import tensorflow as tf"
   ]
  },
  {
   "cell_type": "markdown",
   "metadata": {},
   "source": [
    "## tf.cast()\n",
    "tf.cast(x, dtype, name=None)\n",
    "\n",
    "此函数是类型转换函数\n",
    "\n",
    "参数\n",
    "x：输入\n",
    "dtype：转换目标类型\n",
    "name：名称\n",
    "返回：Tensor"
   ]
  },
  {
   "cell_type": "code",
   "execution_count": 5,
   "metadata": {
    "collapsed": false
   },
   "outputs": [
    {
     "name": "stdout",
     "output_type": "stream",
     "text": [
      "[1 4]\n"
     ]
    }
   ],
   "source": [
    "import tensorflow as tf\n",
    "sess=tf.Session()\n",
    "x=[1.2,4.5]\n",
    "x_out=tf.cast(x,tf.int32)\n",
    "print(sess.run(x_out))"
   ]
  },
  {
   "cell_type": "markdown",
   "metadata": {
    "collapsed": true
   },
   "source": [
    "## tf.concat\n",
    "tf.concat是连接两个矩阵的操作\n",
    "tf.concat(concat_dim, values, name='concat')\n",
    "\n",
    "除去name参数用以指定该操作的name，与方法有关的一共两个参数：\n",
    "第一个参数concat_dim：必须是一个数，表明在哪一维上连接\n",
    "     如果concat_dim是0，那么在某一个shape的第一个维度上连，对应到实际，就是叠放到列上\n",
    "[python] view plain copy\n",
    "t1 = [[1, 2, 3], [4, 5, 6]]  \n",
    "t2 = [[7, 8, 9], [10, 11, 12]]  \n",
    "tf.concat(0, [t1, t2]) == > [[1, 2, 3], [4, 5, 6], [7, 8, 9], [10, 11, 12]]  \n",
    "             如果concat_dim是1，那么在某一个shape的第二个维度上连\n",
    "[python] view plain copy\n",
    "t1 = [[1, 2, 3], [4, 5, 6]]  \n",
    "t2 = [[7, 8, 9], [10, 11, 12]]  \n",
    "tf.concat(1, [t1, t2]) ==> [[1, 2, 3, 7, 8, 9], [4, 5, 6, 10, 11, 12  \n",
    "             如果有更高维，最后连接的依然是指定那个维：\n",
    "             values[i].shape = [D0, D1, ... Dconcat_dim(i), ...Dn]连接后就是：[D0, D1, ... Rconcat_dim, ...Dn]\n",
    "[python] view plain copy\n",
    "\n",
    "tf.shape(tf.concat(0, [t3, t4])) ==> [4, 3]  \n",
    "tf.shape(tf.concat(1, [t3, t4])) ==> [2, 6]  \n",
    "第二个参数values：就是两个或者一组待连接的tensor了\n",
    "\n",
    "---\n",
    "这里要注意的是：如果是两个向量，它们是无法调用\n",
    "[python] view plain copy\n",
    "tf.concat(1, [t1, t2])  \n",
    "来连接的，因为它们对应的shape只有一个维度，当然不能在第二维上连了，虽然实际中两个向量可以在行上连，但是放在程序里是会报错的\n",
    "如果要连，必须要调用tf.expand_dims来扩维：\n",
    "[python] view plain copy\n",
    "t1=tf.constant([1,2,3])  \n",
    "t2=tf.constant([4,5,6])  \n",
    "#concated = tf.concat(1, [t1,t2])这样会报错  \n",
    "t1=tf.expand_dims(tf.constant([1,2,3]),1)  \n",
    "t2=tf.expand_dims(tf.constant([4,5,6]),1)  \n",
    "concated = tf.concat(1, [t1,t2])#这样就是正确的"
   ]
  },
  {
   "cell_type": "markdown",
   "metadata": {
    "collapsed": true
   },
   "source": [
    "## tf.clip_by_value\n",
    "tf.clip_by_value(A, min, max)：输入一个张量A，把A中的每一个元素的值都压缩在min和max之间。小于min的让它等于min，大于max的元素的值等于max。"
   ]
  },
  {
   "cell_type": "code",
   "execution_count": 4,
   "metadata": {
    "collapsed": false
   },
   "outputs": [
    {
     "name": "stdout",
     "output_type": "stream",
     "text": [
      "[[2 2 2 4]\n",
      " [3 4 5 5]]\n"
     ]
    }
   ],
   "source": [
    "import numpy as np\n",
    "A = np.array([[1,1,2,4], [3,4,8,5]])  \n",
    "  \n",
    "with tf.Session() as sess:  \n",
    "    print(sess.run(tf.clip_by_value(A, 2, 5)))"
   ]
  },
  {
   "cell_type": "code",
   "execution_count": null,
   "metadata": {
    "collapsed": true
   },
   "outputs": [],
   "source": []
  }
 ],
 "metadata": {
  "kernelspec": {
   "display_name": "Python [Root]",
   "language": "python",
   "name": "Python [Root]"
  },
  "language_info": {
   "codemirror_mode": {
    "name": "ipython",
    "version": 3
   },
   "file_extension": ".py",
   "mimetype": "text/x-python",
   "name": "python",
   "nbconvert_exporter": "python",
   "pygments_lexer": "ipython3",
   "version": "3.5.1"
  }
 },
 "nbformat": 4,
 "nbformat_minor": 2
}
