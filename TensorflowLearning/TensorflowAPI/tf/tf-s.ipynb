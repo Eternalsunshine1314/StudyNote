{
 "cells": [
  {
   "cell_type": "markdown",
   "metadata": {},
   "source": [
    "## tf.slice()\n",
    "* 函数原型 tf.slice(inputs,begin,size,name='')\n",
    "* 用途：从inputs中抽取部分内容\n",
    "     inputs：可以是list,array,tensor\n",
    "     begin：n维列表，begin[i] 表示从inputs中第i维抽取数据时，相对0的起始偏移量，      也就是从第i维的begin[i]开始抽取数据\n",
    "     size：n维列表，size[i]表示要抽取的第i维元素的数目\n",
    "     有几个关系式如下:\n",
    "     * i in [0,n]\n",
    "     * tf.shape(inputs)[0]=len(begin)=len(size)\n",
    "     * begin[i]>=0   抽取第i维元素的起始位置要大于等于0\n",
    "     * begin[i]+size[i]<=tf.shape(inputs)[i]\n",
    "\n"
   ]
  },
  {
   "cell_type": "code",
   "execution_count": 6,
   "metadata": {},
   "outputs": [
    {
     "name": "stdout",
     "output_type": "stream",
     "text": [
      "[[1, 2, 3], [4, 5, 6]]\n",
      "[[4 5]]\n",
      "[[[ 0  1  2  3]\n",
      "  [ 4  5  6  7]\n",
      "  [ 8  9 10 11]]\n",
      "\n",
      " [[12 13 14 15]\n",
      "  [16 17 18 19]\n",
      "  [20 21 22 23]]]\n",
      "[[[12 13 14]\n",
      "  [16 17 18]]]\n",
      "Tensor(\"Const_1:0\", shape=(3, 2, 3), dtype=int32)\n",
      "[[[ 5  6]]\n",
      "\n",
      " [[11 12]]\n",
      "\n",
      " [[17 18]]]\n"
     ]
    }
   ],
   "source": [
    "import tensorflow as tf  \n",
    "import numpy as np  \n",
    "x=[[1,2,3],[4,5,6]]  \n",
    "y=np.arange(24).reshape([2,3,4])  \n",
    "z=tf.constant([[[1,2,3],[4,5,6]],[[7,8,9],[10,11,12]], [[13,14,15],[16,17,18]]])\n",
    "sess=tf.Session()  \n",
    "begin_x=[1,0]        #第一个1，决定了从x的第二行[4,5,6]开始，第二个0，决定了从[4,5,6] 中的4开始抽取  \n",
    "size_x=[1,2]           # 第一个1决定了，从第二行以起始位置抽取1行，也就是只抽取[4,5,6] 这一行，在这一行中从4开始抽取2个元素  \n",
    "out=tf.slice(x,begin_x,size_x)  \n",
    "print(x)\n",
    "print(sess.run(out))  #  结果:[[4 5]]  \n",
    "  \n",
    "begin_y=[1,0,0]  \n",
    "size_y=[1,2,3]  \n",
    "out=tf.slice(y,begin_y,size_y)     \n",
    "print(y)\n",
    "print(sess.run(out))  # 结果:[[[12 13 14] [16 17 18]]]  \n",
    "  \n",
    "begin_z=[0,1,1]  \n",
    "size_z=[-1,1,2]   \n",
    "out=tf.slice(z,begin_z,size_z)  \n",
    "print(z)\n",
    "print(sess.run(out))  # size[i]=-1 表示第i维从begin[i]剩余的元素都要被抽取，结果：[[[ 5  6]] [[11 12]] [[17 18]]]  \n"
   ]
  },
  {
   "cell_type": "code",
   "execution_count": null,
   "metadata": {
    "collapsed": true
   },
   "outputs": [],
   "source": []
  },
  {
   "cell_type": "code",
   "execution_count": null,
   "metadata": {
    "collapsed": true
   },
   "outputs": [],
   "source": []
  }
 ],
 "metadata": {
  "kernelspec": {
   "display_name": "Python 3",
   "language": "python",
   "name": "python3"
  },
  "language_info": {
   "codemirror_mode": {
    "name": "ipython",
    "version": 3
   },
   "file_extension": ".py",
   "mimetype": "text/x-python",
   "name": "python",
   "nbconvert_exporter": "python",
   "pygments_lexer": "ipython3",
   "version": "3.6.2"
  }
 },
 "nbformat": 4,
 "nbformat_minor": 2
}
