{
 "cells": [
  {
   "cell_type": "markdown",
   "metadata": {},
   "source": [
    "## tf.train.shuffle_batch\n",
    "\n",
    "shuffle_batch(\n",
    "    tensors,\n",
    "    batch_size,\n",
    "    capacity,\n",
    "    min_after_dequeue,\n",
    "    num_threads=1,\n",
    "    seed=None,\n",
    "    enqueue_many=False,\n",
    "    shapes=None,\n",
    "    allow_smaller_final_batch=False,\n",
    "    shared_name=None,\n",
    "    name=None\n",
    ")\n",
    "\n",
    "Creates batches by randomly shuffling tensors.\n",
    "\n",
    "This function adds the following to the current Graph:\n",
    "\n",
    "A shuffling queue into which tensors from tensors are enqueued.\n",
    "A dequeue_many operation to create batches from the queue.\n",
    "A QueueRunner to QUEUE_RUNNER collection, to enqueue the tensors from tensors.\n",
    "If enqueue_many is False, tensors is assumed to represent a single example. An input tensor with shape [x, y, z] will be output as a tensor with shape [batch_size, x, y, z].\n",
    "\n",
    "If enqueue_many is True, tensors is assumed to represent a batch of examples, where the first dimension is indexed by example, and all members of tensors should have the same size in the first dimension. If an input tensor has shape [*, x, y, z], the output will have shape [batch_size, x, y, z].\n",
    "\n",
    "The capacity argument controls the how long the prefetching is allowed to grow the queues.\n",
    "\n",
    "The returned operation is a dequeue operation and will throw tf.errors.OutOfRangeError if the input queue is exhausted. If this operation is feeding another input queue, its queue runner will catch this exception, however, if this operation is used in your main thread you are responsible for catching this yourself.\n",
    "\n",
    "\n",
    "\n",
    "\n"
   ]
  },
  {
   "cell_type": "code",
   "execution_count": null,
   "metadata": {
    "collapsed": true
   },
   "outputs": [],
   "source": [
    "#For example:\n",
    "#Creates batches of 32 images and 32 labels.\n",
    "image_batch, label_batch = tf.train.shuffle_batch(\n",
    "      [single_image, single_label],\n",
    "      batch_size=32,\n",
    "      num_threads=4,\n",
    "      capacity=50000,\n",
    "      min_after_dequeue=10000)"
   ]
  }
 ],
 "metadata": {
  "kernelspec": {
   "display_name": "Python 3",
   "language": "python",
   "name": "python3"
  },
  "language_info": {
   "codemirror_mode": {
    "name": "ipython",
    "version": 3
   },
   "file_extension": ".py",
   "mimetype": "text/x-python",
   "name": "python",
   "nbconvert_exporter": "python",
   "pygments_lexer": "ipython3",
   "version": "3.6.2"
  }
 },
 "nbformat": 4,
 "nbformat_minor": 2
}
