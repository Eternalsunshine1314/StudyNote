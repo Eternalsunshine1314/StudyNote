{
 "cells": [
  {
   "cell_type": "markdown",
   "metadata": {
    "collapsed": true
   },
   "source": [
    "## 滑块控件QSlider\n",
    "QSlider 是一个具有可来回拉动手柄的控件。有时使用滑块比输入数字或使用旋转框更方便。\n",
    "\n",
    "在我们的例子中，我们将创建一个滑块和一个标签。标签显示图像。滑块将控制标签显示的图像。"
   ]
  },
  {
   "cell_type": "code",
   "execution_count": null,
   "metadata": {
    "collapsed": true
   },
   "outputs": [],
   "source": [
    "import sys\n",
    "from PyQt5.QtWidgets import QApplication, QWidget, QLabel, QSlider\n",
    "from PyQt5.QtGui import QPixmap\n",
    "from PyQt5.QtCore import Qt\n",
    "\n",
    "class Example(QWidget):\n",
    "\n",
    "    def __init__(self):\n",
    "        super().__init__()\n",
    "\n",
    "        self.initUI()\n",
    "\n",
    "    def initUI(self):\n",
    "\n",
    "        sld = QSlider(Qt.Horizontal, self)\n",
    "        sld.setFocusPolicy(Qt.NoFocus)\n",
    "        sld.setGeometry(30, 40, 100, 30)\n",
    "        sld.valueChanged[int].connect(self.changeValue)\n",
    "\n",
    "        self.label = QLabel(self)\n",
    "        self.label.setPixmap(QPixmap('F:\\Python\\PyQt5\\Widgets\\images\\mute.png'))\n",
    "        self.label.setGeometry(160, 30, 80, 50)\n",
    "\n",
    "        self.setGeometry(300, 300, 280, 170)\n",
    "        self.setWindowTitle('滑块控件')        \n",
    "        self.show()\n",
    "\n",
    "    def changeValue(self, value):\n",
    "\n",
    "        if value == 0:\n",
    "            self.label.setPixmap(QPixmap('F:\\Python\\PyQt5\\Widgets\\images\\mute.png'))\n",
    "        elif value > 0 and value <= 30:\n",
    "            self.label.setPixmap(QPixmap('F:\\Python\\PyQt5\\Widgets\\images\\min.png'))\n",
    "        elif value > 30 and value < 80:\n",
    "            self.label.setPixmap(QPixmap('F:\\Python\\PyQt5\\Widgets\\images\\med.png'))\n",
    "        else:\n",
    "            self.label.setPixmap(QPixmap('F:\\Python\\PyQt5\\Widgets\\images\\max.png'))\n",
    "\n",
    "if __name__ == '__main__':\n",
    "\n",
    "    app = QApplication(sys.argv)\n",
    "    ex = Example()\n",
    "    sys.exit(app.exec_())"
   ]
  },
  {
   "cell_type": "markdown",
   "metadata": {},
   "source": [
    "在我们的例子中，我们模拟音量控制。通过拖动滑块的手柄，我们改变标签上的图像。\n",
    "```\n",
    "        sld = QSlider(Qt.Horizontal, self)\n",
    "```\n",
    "创建一个水平滑块 QSlider\n",
    "```\n",
    "        self.label = QLabel(self)\n",
    "        self.label.setPixmap(QPixmap('F:\\Python\\PyQt5\\Widgets\\images\\mute.png'))\n",
    "```\n",
    "创建一个标签 QLabel 控件并设置要显示的初始图像\n",
    "```\n",
    "        sld.valueChanged[int].connect(self.changeValue)\n",
    "```\n",
    "将滑块的 valueChanged 信号连接到 changeValue() 方法（槽）\n",
    "```\n",
    "        if value == 0:\n",
    "            self.label.setPixmap(QPixmap('F:\\Python\\PyQt5\\Widgets\\images\\mute.png'))\n",
    "```\n",
    "我们根据滑块的值设置标签上的图像。在上面的代码中，如果滑块等于零标签的图像设置为mute.png。"
   ]
  },
  {
   "cell_type": "code",
   "execution_count": null,
   "metadata": {
    "collapsed": true
   },
   "outputs": [],
   "source": []
  }
 ],
 "metadata": {
  "kernelspec": {
   "display_name": "Python 3",
   "language": "python",
   "name": "python3"
  },
  "language_info": {
   "codemirror_mode": {
    "name": "ipython",
    "version": 3
   },
   "file_extension": ".py",
   "mimetype": "text/x-python",
   "name": "python",
   "nbconvert_exporter": "python",
   "pygments_lexer": "ipython3",
   "version": "3.6.2"
  }
 },
 "nbformat": 4,
 "nbformat_minor": 2
}
