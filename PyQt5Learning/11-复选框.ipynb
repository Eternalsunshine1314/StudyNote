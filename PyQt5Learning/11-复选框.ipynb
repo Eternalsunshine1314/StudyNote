{
 "cells": [
  {
   "cell_type": "markdown",
   "metadata": {},
   "source": [
    "## 复选框QCkeckBox()\n",
    "QCheckBox 是具有两种状态的控件：开和关。它是一个带有标签的复选框。复选框通常用于表示应用程序可以启用或禁用的功能。"
   ]
  },
  {
   "cell_type": "code",
   "execution_count": null,
   "metadata": {},
   "outputs": [],
   "source": [
    "import sys\n",
    "from PyQt5.QtWidgets import QApplication, QWidget, QCheckBox\n",
    "from PyQt5.QtCore import Qt\n",
    "\n",
    "class Example(QWidget):\n",
    "\n",
    "    def __init__(self):\n",
    "        super().__init__()\n",
    "\n",
    "        self.initUI()\n",
    "\n",
    "    def initUI(self):\n",
    "\n",
    "        cb = QCheckBox('显示标题', self)\n",
    "        cb.move(20, 20)\n",
    "        cb.toggle()\n",
    "        cb.stateChanged.connect(self.changeTitle)\n",
    "\n",
    "        self.setGeometry(300, 300, 250, 150)\n",
    "        self.setWindowTitle('复选框')        \n",
    "        self.show()\n",
    "\n",
    "    def changeTitle(self, state):\n",
    "\n",
    "        if state == Qt.Checked:\n",
    "            self.setWindowTitle('复选框')\n",
    "        else:\n",
    "            self.setWindowTitle('')\n",
    "\n",
    "if __name__ == '__main__':\n",
    "\n",
    "    app = QApplication(sys.argv)\n",
    "    ex = Example()\n",
    "    app.exec_()"
   ]
  },
  {
   "cell_type": "markdown",
   "metadata": {},
   "source": [
    "在我们的例子中，我们将创建一个复选框进行窗口标题的切换。\n",
    "```\n",
    "        cb = QCheckBox('显示标题', self)\n",
    "```\n",
    "用QCheckBox 创建复选框\n",
    "```\n",
    "        cb.toggle()\n",
    "```\n",
    "创建复选框时已经设置了控件的标题。默认情况下，复选框是不被选中的。toggle是设置复选框默认为选中。\n",
    "```\n",
    "        cb.stateChanged.connect(self.changeTitle)\n",
    "```\n",
    "复选框的状态更改stateChanged信号连接到changeTitle方法（槽）。\n",
    "```\n",
    "    def changeTitle(self, state):\n",
    "\n",
    "        if state == Qt.Checked:\n",
    "            self.setWindowTitle('复选框')\n",
    "        else:\n",
    "            self.setWindowTitle('')\n",
    "```\n",
    "复选框控件的状态改变传递给changeTitle方法的参数state。如果复选框控件被选中，设置窗口的标题。否则，我们设置一个空字符串的标题栏。（空标题时Python会将标题定义成Python）\n",
    "\n"
   ]
  },
  {
   "cell_type": "code",
   "execution_count": null,
   "metadata": {
    "collapsed": true
   },
   "outputs": [],
   "source": []
  }
 ],
 "metadata": {
  "kernelspec": {
   "display_name": "Python 3",
   "language": "python",
   "name": "python3"
  },
  "language_info": {
   "codemirror_mode": {
    "name": "ipython",
    "version": 3
   },
   "file_extension": ".py",
   "mimetype": "text/x-python",
   "name": "python",
   "nbconvert_exporter": "python",
   "pygments_lexer": "ipython3",
   "version": "3.6.2"
  }
 },
 "nbformat": 4,
 "nbformat_minor": 2
}
