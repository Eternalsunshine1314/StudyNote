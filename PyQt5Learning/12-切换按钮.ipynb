{
 "cells": [
  {
   "cell_type": "markdown",
   "metadata": {},
   "source": [
    "## 切换按钮\n",
    "切换按钮是QPushButton的特殊模式。它是一个具有两种状态的按钮：按压和未按压。我们通过这两种状态之间的切换来修改其它内容。"
   ]
  },
  {
   "cell_type": "code",
   "execution_count": 1,
   "metadata": {
    "collapsed": true
   },
   "outputs": [],
   "source": [
    "import sys\n",
    "from PyQt5.QtWidgets import QApplication,QWidget,QPushButton,QFrame\n",
    "from PyQt5.QtGui import QColor\n",
    "\n",
    "class Example(QWidget):\n",
    "    def __init__(self):\n",
    "        super().__init__()\n",
    "        self.initUI()\n",
    "    def initUI(self):\n",
    "        self.col=QColor(0,0,0)\n",
    "        rbtn=QPushButton('红',self)\n",
    "        rbtn.setCheckable(True)\n",
    "        rbtn.move(10,10)\n",
    "        \n",
    "        gbtn=QPushButton('绿',self)\n",
    "        gbtn.setCheckable(True)\n",
    "        gbtn.move(10,60)\n",
    "        \n",
    "        bbtn=QPushButton('蓝',self)\n",
    "        bbtn.setCheckable(True)\n",
    "        bbtn.move(10,110)\n",
    "        \n",
    "        rbtn.clicked[bool].connect(self.setColor)\n",
    "        gbtn.clicked[bool].connect(self.setColor)\n",
    "        bbtn.clicked[bool].connect(self.setColor)\n",
    "        \n",
    "        self.square=QFrame(self)\n",
    "        self.square.setGeometry(150, 20, 100, 100)\n",
    "        self.square.setStyleSheet('QWidget { background-color:%s }' % \n",
    "            self.col.name())\n",
    "        \n",
    "        self.square.setGeometry(300,300,280,170)\n",
    "        self.setWindowTitle('切换按钮')\n",
    "        self.show()\n",
    "        \n",
    "    def setColor(self,pressed):\n",
    "        source=self.sender()\n",
    "        if pressed:\n",
    "            val=255\n",
    "        else:\n",
    "            val=0\n",
    "        if source.text=='红':\n",
    "            self.col.setRed(val)\n",
    "        elif source.text=='绿':\n",
    "            self.col.setGreen(val)\n",
    "        else:\n",
    "            self.col.setBlue(val)\n",
    "        self.square.setStyleSheet('QFrame { background-color:%s}'%self.col.name())\n",
    "        \n",
    "if __name__=='__main__':\n",
    "    app=QApplication(sys.argv)\n",
    "    ex=Example()\n",
    "    app.exec_()"
   ]
  },
  {
   "cell_type": "markdown",
   "metadata": {},
   "source": [
    "在我们的例子中，我们创建了三个切换按钮和一个QWidget。我们设置QWidget的背景色为黑色。切换按钮将切换颜色值的红，绿和蓝色部分。背景颜色将取决于切换。\n",
    "```\n",
    "        self.col = QColor(0, 0, 0)\n",
    "```\n",
    "初始颜色值为黑色。\n",
    "```\n",
    "        redb = QPushButton('红', self)\n",
    "        redb.setCheckable(True)\n",
    "        redb.move(10, 10)\n",
    "```\n",
    "创建一个切换按钮。我们通过使用QPushButton 创建一个按钮，并设置其setCheckable()方法为真。\n",
    "```\n",
    "        redb.clicked[bool].connect(self.setColor)\n",
    "```\n",
    "当我们点击切换按钮时一个信号连接到我们定义的方法。我们使用一个布尔值操作点击信号。\n",
    "```\n",
    "        source = self.sender()\n",
    "```\n",
    "我们得到切换按钮的信息(也就是点击了哪个按钮)。\n",
    "```\n",
    "        if source.text() == '红':\n",
    "            self.col.setRed(val)\n",
    "```\n",
    "如果是红色按钮，我们相应地更新颜色的红色部分。\n",
    "```\n",
    "        self.square.setStyleSheet('QFrame { background-color:%s }' % \n",
    "            self.col.name())\n",
    "```\n",
    "我们使用样式表来改变背景颜色。"
   ]
  },
  {
   "cell_type": "code",
   "execution_count": null,
   "metadata": {
    "collapsed": true
   },
   "outputs": [],
   "source": []
  }
 ],
 "metadata": {
  "anaconda-cloud": {},
  "kernelspec": {
   "display_name": "Python [Root]",
   "language": "python",
   "name": "Python [Root]"
  },
  "language_info": {
   "codemirror_mode": {
    "name": "ipython",
    "version": 3
   },
   "file_extension": ".py",
   "mimetype": "text/x-python",
   "name": "python",
   "nbconvert_exporter": "python",
   "pygments_lexer": "ipython3",
   "version": "3.5.1"
  }
 },
 "nbformat": 4,
 "nbformat_minor": 2
}
