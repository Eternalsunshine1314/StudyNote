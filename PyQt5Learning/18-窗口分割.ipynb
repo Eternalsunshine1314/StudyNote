{
 "cells": [
  {
   "cell_type": "markdown",
   "metadata": {},
   "source": [
    "## QSplitter \n",
    "使用户可以通过拖动子面板的边界控制子面板的大小。在我们的例子中，我们使用了两个QSplitter 对三个QFrame 控件进行了分隔。"
   ]
  },
  {
   "cell_type": "code",
   "execution_count": 1,
   "metadata": {
    "collapsed": true
   },
   "outputs": [],
   "source": [
    "import sys\n",
    "from PyQt5.QtWidgets import (QApplication, QWidget, QHBoxLayout, \n",
    "QFrame, QSplitter)\n",
    "from PyQt5.QtCore import Qt\n",
    "\n",
    "class Example(QWidget):\n",
    "\n",
    "    def __init__(self):\n",
    "        super().__init__()\n",
    "\n",
    "        self.initUI()\n",
    "\n",
    "    def initUI(self):\n",
    "\n",
    "        hbox = QHBoxLayout(self)\n",
    "\n",
    "        topleft = QFrame(self)\n",
    "        topleft.setFrameShape(QFrame.StyledPanel)\n",
    "\n",
    "        topright = QFrame(self)\n",
    "        topright.setFrameShape(QFrame.StyledPanel)\n",
    "\n",
    "        bottom = QFrame(self)\n",
    "        bottom.setFrameShape(QFrame.StyledPanel)\n",
    "\n",
    "        splitter1 = QSplitter(Qt.Horizontal)\n",
    "        splitter1.addWidget(topleft)\n",
    "        splitter1.addWidget(topright)\n",
    "\n",
    "        splitter2 = QSplitter(Qt.Vertical)\n",
    "        splitter2.addWidget(splitter1)\n",
    "        splitter2.addWidget(bottom)\n",
    "        \n",
    "        #hbox.addWidget(splitter1)\n",
    "        hbox.addWidget(splitter2)\n",
    "        self.setLayout(hbox)\n",
    "\n",
    "        self.setGeometry(300, 300, 300, 200)\n",
    "        self.setWindowTitle('窗口分隔')        \n",
    "        self.show()\n",
    "\n",
    "if __name__ == '__main__':\n",
    "\n",
    "    app = QApplication(sys.argv)\n",
    "    ex = Example()\n",
    "    app.exec_()"
   ]
  },
  {
   "cell_type": "markdown",
   "metadata": {},
   "source": [
    "在我们的例子中，我们使用了三个框架部件和两个QSplitter 。请注意，某些主题的QSplitter 边界可能不可见。\n",
    "```\n",
    "        topleft = QFrame(self)\n",
    "        topleft.setFrameShape(QFrame.StyledPanel)\n",
    "```\n",
    "我们为QFrame 控件添加StyledPanel样式能使QFrame 控件之间的界限更加明显。\n",
    "```\n",
    "        splitter1 = QSplitter(Qt.Horizontal)\n",
    "        splitter1.addWidget(topleft)\n",
    "        splitter1.addWidget(topright)\n",
    "```\n",
    "我们创建了一个QSplitter控件，并添加两个QFrame 进去。\n",
    "```\n",
    "        splitter2 = QSplitter(Qt.Vertical)\n",
    "        splitter2.addWidget(splitter1)\n",
    "```\n",
    "We can also add a splitter to another splitter widget. 我们还可以添加一个QSplitter到另一个QSplitter控件中。\n",
    "\n"
   ]
  },
  {
   "cell_type": "code",
   "execution_count": null,
   "metadata": {
    "collapsed": true
   },
   "outputs": [],
   "source": []
  }
 ],
 "metadata": {
  "kernelspec": {
   "display_name": "Python [Root]",
   "language": "python",
   "name": "Python [Root]"
  },
  "language_info": {
   "codemirror_mode": {
    "name": "ipython",
    "version": 3
   },
   "file_extension": ".py",
   "mimetype": "text/x-python",
   "name": "python",
   "nbconvert_exporter": "python",
   "pygments_lexer": "ipython3",
   "version": "3.5.1"
  }
 },
 "nbformat": 4,
 "nbformat_minor": 0
}
