{
 "cells": [
  {
   "cell_type": "code",
   "execution_count": 1,
   "metadata": {
    "collapsed": true
   },
   "outputs": [],
   "source": [
    "import sys\n",
    "from PyQt5.QtWidgets import QApplication,QWidget,QDesktopWidget"
   ]
  },
  {
   "cell_type": "code",
   "execution_count": 2,
   "metadata": {
    "collapsed": true
   },
   "outputs": [],
   "source": [
    "class MyWIndow(QWidget):\n",
    "    def __init__(self):\n",
    "        super().__init__()\n",
    "        self.initUI()\n",
    "    def initUI(self):\n",
    "        self.setGeometry(300,300,1000,600)\n",
    "        self.setWindowTitle('移动中屏幕中心')\n",
    "        self.center()\n",
    "        self.show()\n",
    "        \n",
    "    def center(self):\n",
    "        qr=self.frameGeometry()\n",
    "        cp=QDesktopWidget().availableGeometry().center()\n",
    "        qr.moveCenter(cp)\n",
    "        self.move(qr.topLeft())\n",
    "if __name__=='__main__':\n",
    "    app=QApplication(sys.argv)\n",
    "    mywin=MyWIndow()\n",
    "    app.exec_()"
   ]
  },
  {
   "cell_type": "markdown",
   "metadata": {},
   "source": [
    "QtGui.QDesktopWidget 类提供了有关用户桌面的信息，包括屏幕尺寸。\n",
    "```\n",
    "        self.center()\n",
    "```\n",
    "将居中窗口的代码放置在自定义 center() 方法中。\n",
    "```\n",
    "        qr = self.frameGeometry()\n",
    "```\n",
    "frameGeometry() 方法允许我们创建一个无形矩形并根据主窗口的宽高设置自身的宽度与高度。简单理解就是将这个控件(QWidget)的几何内容(宽高位置等)，赋值给qr\n",
    "```\n",
    "        cp = QDesktopWidget().availableGeometry().center()\n",
    "```\n",
    "计算出你的显示器的屏幕分辨率。根据得到的分辨率我们得到屏幕的中心点。\n",
    "```\n",
    "        qr.moveCenter(cp)\n",
    "```\n",
    "我们的矩形(qr)已有宽度和高度，现在设置移动矩形的中心(moveCenter)到屏幕的中心点(cp)，矩形的尺寸是不变的。\n",
    "```\n",
    "        self.move(qr.topLeft())\n",
    "```\n",
    "移动应用程序窗口的左上角到qr矩形的左上角，从而使应用程序窗口显示在屏幕的中心。\n",
    "\n",
    "程序执行后 "
   ]
  },
  {
   "cell_type": "code",
   "execution_count": null,
   "metadata": {
    "collapsed": true
   },
   "outputs": [],
   "source": []
  }
 ],
 "metadata": {
  "kernelspec": {
   "display_name": "Python [Root]",
   "language": "python",
   "name": "Python [Root]"
  },
  "language_info": {
   "codemirror_mode": {
    "name": "ipython",
    "version": 3
   },
   "file_extension": ".py",
   "mimetype": "text/x-python",
   "name": "python",
   "nbconvert_exporter": "python",
   "pygments_lexer": "ipython3",
   "version": "3.5.1"
  }
 },
 "nbformat": 4,
 "nbformat_minor": 2
}
