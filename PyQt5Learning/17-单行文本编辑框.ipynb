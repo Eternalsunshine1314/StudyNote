{
 "cells": [
  {
   "cell_type": "markdown",
   "metadata": {},
   "source": [
    "QLineEdit 是一个允许输入和编辑纯文本的单行控件。系统中的撤销、重做、复制、剪切和粘贴都可用于该控件。"
   ]
  },
  {
   "cell_type": "code",
   "execution_count": 1,
   "metadata": {
    "collapsed": false
   },
   "outputs": [
    {
     "ename": "SystemExit",
     "evalue": "0",
     "output_type": "error",
     "traceback": [
      "An exception has occurred, use %tb to see the full traceback.\n",
      "\u001b[0;31mSystemExit\u001b[0m\u001b[0;31m:\u001b[0m 0\n"
     ]
    },
    {
     "name": "stderr",
     "output_type": "stream",
     "text": [
      "/home/wenshao/anaconda3/lib/python3.6/site-packages/IPython/core/interactiveshell.py:2870: UserWarning: To exit: use 'exit', 'quit', or Ctrl-D.\n",
      "  warn(\"To exit: use 'exit', 'quit', or Ctrl-D.\", stacklevel=1)\n"
     ]
    }
   ],
   "source": [
    "import sys\n",
    "from PyQt5.QtWidgets import QApplication,QWidget,QLineEdit,QLabel\n",
    "\n",
    "class Example(QWidget):\n",
    "    def __init__(self):\n",
    "        super().__init__()\n",
    "        self.initUI()\n",
    "    def initUI(self):\n",
    "        self.lab=QLabel(self)\n",
    "        ledit=QLineEdit(self)\n",
    "        ledit.move(60,100)\n",
    "        self.lab.move(60,40)\n",
    "        ledit.textChanged[str].connect(self.onChanged)\n",
    "        \n",
    "        \n",
    "        self.setGeometry(300,300,280,170)\n",
    "        self.setWindowTitle('单行文本')\n",
    "        self.show()\n",
    "    def onChanged(self,text):\n",
    "        self.lab.setText(text)\n",
    "        self.lab.adjustSize()\n",
    "if __name__=='__main__':\n",
    "    app=QApplication(sys.argv)\n",
    "    ex=Example()\n",
    "    app.exec_()"
   ]
  },
  {
   "cell_type": "markdown",
   "metadata": {},
   "source": [
    "这个例子显示了一个单行文本控件和一个标签控件。我们在单行文本控件中编辑键入文本时在标签控件中立即显示出来。\n",
    "```\n",
    "        qle = QLineEdit(self)\n",
    "```\n",
    "创建一个 QLineEdit 控件对象\n",
    "```\n",
    "        qle.textChanged[str].connect(self.onChanged)\n",
    "```\n",
    "如果单行文本控件的文本改变了，我们调用的onChanged()方法。\n",
    "```\n",
    "    def onChanged(self, text):\n",
    "\n",
    "        self.lb1.setText(text)\n",
    "        self.lb1.adjustSize()\n",
    "```\n",
    "在onChanged()方法中，我们设置了标签控件中显示单行文本控件的内容。adjustSize()方法将标签的大小调整到文本的长度。\n",
    "\n"
   ]
  },
  {
   "cell_type": "code",
   "execution_count": null,
   "metadata": {
    "collapsed": true
   },
   "outputs": [],
   "source": []
  }
 ],
 "metadata": {
  "anaconda-cloud": {},
  "kernelspec": {
   "display_name": "Python [Root]",
   "language": "python",
   "name": "Python [Root]"
  },
  "language_info": {
   "codemirror_mode": {
    "name": "ipython",
    "version": 3
   },
   "file_extension": ".py",
   "mimetype": "text/x-python",
   "name": "python",
   "nbconvert_exporter": "python",
   "pygments_lexer": "ipython3",
   "version": "3.5.1"
  }
 },
 "nbformat": 4,
 "nbformat_minor": 2
}
