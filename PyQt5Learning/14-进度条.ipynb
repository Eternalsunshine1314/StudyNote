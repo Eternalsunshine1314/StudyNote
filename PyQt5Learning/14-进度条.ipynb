{
 "cells": [
  {
   "cell_type": "markdown",
   "metadata": {
    "collapsed": true
   },
   "source": [
    "## 进度条 QProgressBar()\n",
    "进度条是，当我们处理冗长的任务时使用的控件。它是以动画的形式让用户知道该任务正在取得进展。该QProgressBar控件提供一个水平或垂直进度条。程序员可以设置进度条的最小值和最大值。默认值是0到99。"
   ]
  },
  {
   "cell_type": "code",
   "execution_count": null,
   "metadata": {
    "collapsed": true
   },
   "outputs": [],
   "source": [
    "import sys\n",
    "from PyQt5.QtWidgets import QApplication, QWidget, QProgressBar, QPushButton\n",
    "from PyQt5.QtCore import QBasicTimer\n",
    "\n",
    "class Example(QWidget):\n",
    "\n",
    "    def __init__(self):\n",
    "        super().__init__()\n",
    "\n",
    "        self.initUI()\n",
    "\n",
    "    def initUI(self):\n",
    "\n",
    "        self.pbar = QProgressBar(self)\n",
    "        self.pbar.setGeometry(30, 40, 200, 25)\n",
    "\n",
    "        self.btn = QPushButton('开始', self)\n",
    "        self.btn.move(40, 80)\n",
    "        self.btn.clicked.connect(self.doAction)\n",
    "\n",
    "        self.timer = QBasicTimer()\n",
    "        self.step = 0\n",
    "\n",
    "        self.setGeometry(300, 300, 280, 170)\n",
    "        self.setWindowTitle('进度条')        \n",
    "        self.show()\n",
    "\n",
    "    def timerEvent(self, e):\n",
    "\n",
    "        if self.step >= 100:\n",
    "            self.timer.stop()\n",
    "            self.btn.setText('完成')\n",
    "            return\n",
    "        self.step = self.step+1\n",
    "        self.pbar.setValue(self.step)\n",
    "\n",
    "    def doAction(self, value):\n",
    "\n",
    "        if self.timer.isActive():\n",
    "            self.timer.stop()\n",
    "            self.btn.setText('开始')\n",
    "        else:\n",
    "            self.timer.start(100, self)\n",
    "            self.btn.setText('停止')\n",
    "\n",
    "if __name__ == '__main__':\n",
    "\n",
    "    app = QApplication(sys.argv)\n",
    "    ex = Example()\n",
    "    sys.exit(app.exec_())"
   ]
  },
  {
   "cell_type": "markdown",
   "metadata": {},
   "source": [
    "在我们的例子，我们有一个水平进度条控件和一个按钮控件。点击按钮启动或停止进度条。\n",
    "```\n",
    "        self.pbar = QProgressBar(self)\n",
    "```\n",
    "使用 QProgressBar 创建进度条\n",
    "```\n",
    "        self.timer = QBasicTimer()\n",
    "```\n",
    "激活进度条，我们需使用一个计时器对象。\n",
    "```\n",
    "            self.timer.start(100, self)\n",
    "```\n",
    "要启动定时器事件，我们需调用它的start()方法。这种方法有两个参数：超时和将接收的事件的对象。\n",
    "```\n",
    "    def timerEvent(self, e):\n",
    "\n",
    "        if self.step >= 100:\n",
    "            self.timer.stop()\n",
    "            self.btn.setText('完成')\n",
    "            return\n",
    "        self.step = self.step+1\n",
    "        self.pbar.setValue(self.step)\n",
    "```\n",
    "每个继承自QObject 的对象都有一个timerEvent()事件处理程序。为了定时器事件作用到进度条，我们重写了这个事件处理程序。\n",
    "```\n",
    "    def doAction(self, value):\n",
    "\n",
    "        if self.timer.isActive():\n",
    "            self.timer.stop()\n",
    "            self.btn.setText('开始')\n",
    "        else:\n",
    "            self.timer.start(100, self)\n",
    "            self.btn.setText('停止')\n",
    "```\n",
    "使用 doAction() 方法启动和停止计时器。"
   ]
  },
  {
   "cell_type": "code",
   "execution_count": null,
   "metadata": {
    "collapsed": true
   },
   "outputs": [],
   "source": []
  }
 ],
 "metadata": {
  "kernelspec": {
   "display_name": "Python 3",
   "language": "python",
   "name": "python3"
  },
  "language_info": {
   "codemirror_mode": {
    "name": "ipython",
    "version": 3
   },
   "file_extension": ".py",
   "mimetype": "text/x-python",
   "name": "python",
   "nbconvert_exporter": "python",
   "pygments_lexer": "ipython3",
   "version": "3.6.2"
  }
 },
 "nbformat": 4,
 "nbformat_minor": 2
}
