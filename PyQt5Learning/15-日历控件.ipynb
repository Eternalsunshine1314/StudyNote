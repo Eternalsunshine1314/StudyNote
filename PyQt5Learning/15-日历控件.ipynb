{
 "cells": [
  {
   "cell_type": "markdown",
   "metadata": {},
   "source": [
    "## 日历控件QCalendarWidget\n",
    "QCalendarWidget 是日历控件。它允许用户以简单和直观的方式选择日期。"
   ]
  },
  {
   "cell_type": "code",
   "execution_count": 1,
   "metadata": {},
   "outputs": [],
   "source": [
    "import sys\n",
    "from PyQt5.QtWidgets import QApplication,QWidget,QCalendarWidget,QLabel\n",
    "from PyQt5.QtCore import QDate\n",
    "\n",
    "class Example(QWidget):\n",
    "    def __init__(self):\n",
    "        super().__init__()\n",
    "        self.initUI()\n",
    "    def initUI(self):\n",
    "        cal=QCalendarWidget(self)\n",
    "        cal.setGridVisible(True)\n",
    "        cal.move(20,20)\n",
    "        cal.clicked[QDate].connect(self.showDate)\n",
    "        \n",
    "        self.lab=QLabel(self)\n",
    "        data=cal.selectedDate()\n",
    "        self.lab.setText(data.toString())\n",
    "        self.lab.move(130,260)\n",
    "        \n",
    "        self.setGeometry(300,300,350,350)\n",
    "        self.setWindowTitle('日历控件')\n",
    "        self.show()\n",
    "    def showDate(self,date):\n",
    "        self.lab.setText(date.toString())\n",
    "if __name__=='__main__':\n",
    "    app=QApplication(sys.argv)\n",
    "    ex=Example()\n",
    "    app.exec_()"
   ]
  },
  {
   "cell_type": "markdown",
   "metadata": {},
   "source": [
    "这个例子有一个日历控件和一个标签控件。当前选定的日期用标签显示。\n",
    "```\n",
    "        cal = QCalendarWidget(self)\n",
    "```\n",
    "使用 QCalendarWidget 创建日历控件\n",
    "```\n",
    "        cal.clicked[QDate].connect(self.showDate)\n",
    "```\n",
    "如果我们在日历控件中选择一个日期，clicked[QDate]信号将连接到用户定义的showDate()方法。\n",
    "```\n",
    "    def showDate(self, date):\n",
    "\n",
    "        self.lb1.setText(date.toString())\n",
    "```\n",
    "我们通过调用selectedDate()方法检索选定的日期。然后我们将Date对象转换成字符串并显示在标签控件中。"
   ]
  },
  {
   "cell_type": "code",
   "execution_count": null,
   "metadata": {
    "collapsed": true
   },
   "outputs": [],
   "source": []
  }
 ],
 "metadata": {
  "kernelspec": {
   "display_name": "Python 3",
   "language": "python",
   "name": "python3"
  },
  "language_info": {
   "codemirror_mode": {
    "name": "ipython",
    "version": 3
   },
   "file_extension": ".py",
   "mimetype": "text/x-python",
   "name": "python",
   "nbconvert_exporter": "python",
   "pygments_lexer": "ipython3",
   "version": "3.6.2"
  }
 },
 "nbformat": 4,
 "nbformat_minor": 2
}
