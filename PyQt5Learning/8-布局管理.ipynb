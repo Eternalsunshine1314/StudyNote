{
 "cells": [
  {
   "cell_type": "markdown",
   "metadata": {},
   "source": [
    "## 绝对定位\n",
    "\n",
    "每个控件按程序员指定的位置放置。当您使用绝对定位，我们要了解以下限制：\n",
    "\n",
    "* 如果我们调整窗口的大小控件的大小和位置保持不变\n",
    "* 在不同平台上应用程序看起来可能会不同\n",
    "* 更改字体可能会破坏应用程序的布局\n",
    "* 如果决定改变布局，我们必须每个控件彻底的加以修改，这是繁琐和耗时的\n"
   ]
  },
  {
   "cell_type": "code",
   "execution_count": 1,
   "metadata": {
    "collapsed": true
   },
   "outputs": [],
   "source": [
    "import sys\n",
    "from PyQt5.QtWidgets import QApplication, QWidget, QLabel\n",
    "\n",
    "class Example(QWidget):\n",
    "\n",
    "    def __init__(self):\n",
    "        super().__init__()\n",
    "\n",
    "        self.initUI()\n",
    "\n",
    "    def initUI(self):\n",
    "\n",
    "        lbl1 = QLabel('我的世界你曾经来过', self)\n",
    "        lbl1.move(15, 10)\n",
    "\n",
    "        lbl2 = QLabel('CSND博客', self)\n",
    "        lbl2.move(35, 40)\n",
    "\n",
    "        lbl3 = QLabel('程序员', self)\n",
    "        lbl3.move(55, 70)\n",
    "\n",
    "        self.setGeometry(300, 300, 250, 150)\n",
    "        self.setWindowTitle('绝对定位')        \n",
    "        self.show()\n",
    "\n",
    "if __name__ == '__main__':\n",
    "\n",
    "    app = QApplication(sys.argv)\n",
    "    ex = Example()\n",
    "    app.exec_()"
   ]
  },
  {
   "cell_type": "markdown",
   "metadata": {},
   "source": [
    "## Box layout盒子布局\n",
    "\n",
    "布局管理使用布局类的方式更加灵活、实用。它是将一个控件放在窗口中的首选方式。QHBoxLayout和QVBoxLayout分别是水平和垂直对齐控件的基本布局类。\n",
    "\n",
    "试想一下，我们希望把两个按钮在程序的右下角。要创建这样一个布局，我们可以使用一横一纵两个框。要创造必要的空余空间，我们将增加一个拉伸因子(stretch factor)"
   ]
  },
  {
   "cell_type": "code",
   "execution_count": 1,
   "metadata": {
    "collapsed": true
   },
   "outputs": [],
   "source": [
    "import sys\n",
    "from PyQt5.QtWidgets import (QApplication,QWidget,QPushButton,\n",
    "                             QVBoxLayout,QHBoxLayout)\n",
    "class Example(QWidget):\n",
    "\n",
    "    def __init__(self):\n",
    "        super().__init__()\n",
    "\n",
    "        self.initUI()\n",
    "    def initUI(self):\n",
    "        okButton=QPushButton('确定')\n",
    "        cancelButton=QPushButton('取消')\n",
    "        hbox=QHBoxLayout()\n",
    "        hbox.addStretch(1)\n",
    "        hbox.addWidget(okButton)\n",
    "        hbox.addWidget(cancelButton)\n",
    "        \n",
    "        vbox=QVBoxLayout()\n",
    "        vbox.addStretch(1)\n",
    "        vbox.addLayout(hbox)\n",
    "        \n",
    "        self.setLayout(vbox)\n",
    "        \n",
    "        self.setGeometry(300,300,1000,600)\n",
    "        self.setWindowTitle('Box布局')\n",
    "        self.show()\n",
    "        \n",
    "if __name__=='__main__':\n",
    "    app=QApplication(sys.argv)\n",
    "    mywin=Example()\n",
    "    app.exec_()\n",
    "                        "
   ]
  },
  {
   "cell_type": "markdown",
   "metadata": {
    "collapsed": true
   },
   "source": [
    "该示例将两个按钮放在窗口的右下角。当我们调整应用程序窗口的大小时，他们是固定在右下角的。我们同时使用HBoxLayout 和QVBoxLayout布局。\n",
    "```\n",
    "        okButton = QPushButton('确定')\n",
    "        cancelButton = QPushButton('取消')\n",
    "```\n",
    "这里我们创建了两个按钮。\n",
    "```\n",
    "        hbox = QHBoxLayout()\n",
    "        hbox.addStretch(1)\n",
    "        hbox.addWidget(okButton)\n",
    "        hbox.addWidget(cancelButton)\n",
    "```\n",
    "我们创建了一个水平box布局，增加拉伸因子(addStretch)，添加(addWidget)两个按钮。在添加两个按钮之前增加了一个拉伸因子，这会将两个按钮推到窗口右侧。\n",
    "```\n",
    "        vbox = QVBoxLayout()\n",
    "        vbox.addStretch(1)\n",
    "        vbox.addLayout(hbox)\n",
    "```\n",
    "要得到我们想要的布局，还需将横向布局放入垂直的布局中。在垂直框上的拉伸因子会将水平框包括里面的控件推至窗口的底部。\n",
    "```\n",
    "        self.setLayout(vbox)\n",
    "```\n",
    "最后，我们设置窗口的主布局。"
   ]
  },
  {
   "cell_type": "markdown",
   "metadata": {},
   "source": [
    "## QGridLayout网格布局\n",
    "\n",
    "最经常使用的布局类是网格布局。这种布局将该空间分成行和列。要创建一个网格布局，我们使用QGridLayout 的类。"
   ]
  },
  {
   "cell_type": "code",
   "execution_count": 2,
   "metadata": {
    "collapsed": false,
    "scrolled": true
   },
   "outputs": [
    {
     "name": "stdout",
     "output_type": "stream",
     "text": [
      "(0, 0)\n",
      "0 0\n",
      "(0, 1)\n",
      "0 1\n",
      "(0, 2)\n",
      "0 2\n",
      "(0, 3)\n",
      "0 3\n",
      "(1, 0)\n",
      "1 0\n",
      "(1, 1)\n",
      "1 1\n",
      "(1, 2)\n",
      "1 2\n",
      "(1, 3)\n",
      "1 3\n",
      "(2, 0)\n",
      "2 0\n",
      "(2, 1)\n",
      "2 1\n",
      "(2, 2)\n",
      "2 2\n",
      "(2, 3)\n",
      "2 3\n",
      "(3, 0)\n",
      "3 0\n",
      "(3, 1)\n",
      "3 1\n",
      "(3, 2)\n",
      "3 2\n",
      "(3, 3)\n",
      "3 3\n",
      "(4, 0)\n",
      "4 0\n",
      "(4, 1)\n",
      "4 1\n",
      "(4, 2)\n",
      "4 2\n",
      "(4, 3)\n",
      "4 3\n"
     ]
    }
   ],
   "source": [
    "import sys\n",
    "from PyQt5.QtWidgets import (QApplication,QWidget,QPushButton,\n",
    "                             QGridLayout)\n",
    "class Example(QWidget):\n",
    "\n",
    "    def __init__(self):\n",
    "        super().__init__()\n",
    "\n",
    "        self.initUI()\n",
    "    def initUI(self):\n",
    "        grid=QGridLayout()\n",
    "        self.setLayout(grid)\n",
    "        names = ['Cls', 'Bck', '', 'Close', \n",
    "        '7', '8', '9', '/',\n",
    "        '4', '5', '6', '*',\n",
    "        '1', '2', '3', '-',\n",
    "        '0', '.', '=', '+',]\n",
    "        positions=[(i,j) for i in range(5) for j in range(4)]\n",
    "        for position,name in zip(positions,names):\n",
    "            if name=='':\n",
    "                continue\n",
    "            button=QPushButton(name)\n",
    "            grid.addWidget(button,*position)\n",
    "        self.move(300,150)\n",
    "        self.setWindowTitle('计算器')\n",
    "        self.show()\n",
    "        \n",
    "if __name__=='__main__':\n",
    "    app=QApplication(sys.argv)\n",
    "    ex=Example()\n",
    "    app.exec_()"
   ]
  },
  {
   "cell_type": "markdown",
   "metadata": {},
   "source": [
    "在我们的例子中，我们将创建的按钮控件放在网格中。\n",
    "```\n",
    "        grid = QGridLayout()        \n",
    "        self.setLayout(grid)\n",
    "```\n",
    "实例化 QGridLayout 并设置应用程序窗口的布局。\n",
    "```\n",
    "        names = ['Cls', 'Bck', '', 'Close', \n",
    "        '7', '8', '9', '/',\n",
    "        '4', '5', '6', '*',\n",
    "        '1', '2', '3', '-',\n",
    "        '0', '.', '=', '+',]\n",
    "```\n",
    "这是以后要用到的按钮标签。\n",
    "```\n",
    "        positions = [(i, j) for i in range(5) for j in range(4)]\n",
    "```\n",
    "我们创建了网格位置的列表。\n",
    "```\n",
    "        for position, name in zip(positions, names):\n",
    "\n",
    "            if name == '':\n",
    "                continue\n",
    "            button = QPushButton(name)\n",
    "            grid.addWidget(button, *position)\n",
    "```\n",
    "创建按钮并添加(addWidget)到布局中。\n",
    "\n"
   ]
  },
  {
   "cell_type": "markdown",
   "metadata": {},
   "source": [
    "## 扩展网格布局\n",
    "\n",
    "窗口中的控件可以跨越网格中的多个列或行。在下面的例子中，我们说明这一点"
   ]
  },
  {
   "cell_type": "code",
   "execution_count": 1,
   "metadata": {
    "collapsed": true
   },
   "outputs": [],
   "source": [
    "import sys\n",
    "from PyQt5.QtWidgets import (QApplication, QWidget, QLabel, \n",
    "QTextEdit, QLineEdit, QGridLayout)\n",
    "\n",
    "class Example(QWidget):\n",
    "\n",
    "    def __init__(self):\n",
    "        super().__init__()\n",
    "\n",
    "        self.initUI()\n",
    "\n",
    "    def initUI(self):\n",
    "\n",
    "        title = QLabel('标题')\n",
    "        author = QLabel('作者')\n",
    "        review = QLabel('评论')\n",
    "\n",
    "        titleEdit = QLineEdit()\n",
    "        authorEdit = QLineEdit()\n",
    "        reviewEdit = QTextEdit()\n",
    "\n",
    "        grid  =QGridLayout()\n",
    "        grid.setSpacing(10)\n",
    "\n",
    "        grid.addWidget(title, 1, 0)\n",
    "        grid.addWidget(titleEdit, 1, 1)\n",
    "\n",
    "        grid.addWidget(author, 2, 0)\n",
    "        grid.addWidget(authorEdit, 2, 1)\n",
    "\n",
    "        grid.addWidget(review, 3, 0)\n",
    "        grid.addWidget(reviewEdit, 3, 1,5,1)\n",
    "\n",
    "        self.setLayout(grid)\n",
    "\n",
    "        self.setGeometry(300, 300, 350, 300)\n",
    "        self.setWindowTitle('评论')        \n",
    "        self.show()\n",
    "\n",
    "if __name__ == '__main__':\n",
    "\n",
    "    app = QApplication(sys.argv)\n",
    "    ex = Example()\n",
    "    app.exec_()"
   ]
  },
  {
   "cell_type": "markdown",
   "metadata": {},
   "source": [
    "我们创建的程序中包含三个标签，两个单行文本输入框和一个文本编辑控件，使用QGridLayout布局。\n",
    "```\n",
    "        grid  =QGridLayout()\n",
    "        grid.setSpacing(10)\n",
    "```\n",
    "实例化网格布局和并设置设置间距。\n",
    "```\n",
    "        grid.addWidget(reviewEdit, 3, 1, 5, 1)\n",
    "```\n",
    "添加一个控件到网格布局中，我们可以为这个控件使用行跨度或列跨度。在我们的例子中，我们要求reviewEdit控件跨度5行。"
   ]
  },
  {
   "cell_type": "code",
   "execution_count": null,
   "metadata": {
    "collapsed": true
   },
   "outputs": [],
   "source": []
  }
 ],
 "metadata": {
  "kernelspec": {
   "display_name": "Python [Root]",
   "language": "python",
   "name": "Python [Root]"
  },
  "language_info": {
   "codemirror_mode": {
    "name": "ipython",
    "version": 3
   },
   "file_extension": ".py",
   "mimetype": "text/x-python",
   "name": "python",
   "nbconvert_exporter": "python",
   "pygments_lexer": "ipython3",
   "version": "3.5.1"
  }
 },
 "nbformat": 4,
 "nbformat_minor": 2
}
