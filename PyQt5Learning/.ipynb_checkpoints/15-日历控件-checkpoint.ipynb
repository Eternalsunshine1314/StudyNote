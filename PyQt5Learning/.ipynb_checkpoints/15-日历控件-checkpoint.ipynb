{
 "cells": [
  {
   "cell_type": "markdown",
   "metadata": {},
   "source": [
    "## 日历控件QCalendarWidget\n",
    "QCalendarWidget 是日历控件。它允许用户以简单和直观的方式选择日期。"
   ]
  },
  {
   "cell_type": "code",
   "execution_count": 1,
   "metadata": {},
   "outputs": [
    {
     "ename": "AttributeError",
     "evalue": "'QApplication' object has no attribute 'exec__'",
     "output_type": "error",
     "traceback": [
      "\u001b[0;31m---------------------------------------------------------------------------\u001b[0m",
      "\u001b[0;31mAttributeError\u001b[0m                            Traceback (most recent call last)",
      "\u001b[0;32m<ipython-input-1-9b4c071a9389>\u001b[0m in \u001b[0;36m<module>\u001b[0;34m()\u001b[0m\n\u001b[1;32m     26\u001b[0m     \u001b[0mapp\u001b[0m\u001b[0;34m=\u001b[0m\u001b[0mQApplication\u001b[0m\u001b[0;34m(\u001b[0m\u001b[0msys\u001b[0m\u001b[0;34m.\u001b[0m\u001b[0margv\u001b[0m\u001b[0;34m)\u001b[0m\u001b[0;34m\u001b[0m\u001b[0m\n\u001b[1;32m     27\u001b[0m     \u001b[0mex\u001b[0m\u001b[0;34m=\u001b[0m\u001b[0mExample\u001b[0m\u001b[0;34m(\u001b[0m\u001b[0;34m)\u001b[0m\u001b[0;34m\u001b[0m\u001b[0m\n\u001b[0;32m---> 28\u001b[0;31m     \u001b[0mapp\u001b[0m\u001b[0;34m.\u001b[0m\u001b[0mexec__\u001b[0m\u001b[0;34m(\u001b[0m\u001b[0;34m)\u001b[0m\u001b[0;34m\u001b[0m\u001b[0m\n\u001b[0m",
      "\u001b[0;31mAttributeError\u001b[0m: 'QApplication' object has no attribute 'exec__'"
     ]
    }
   ],
   "source": [
    "import sys\n",
    "from PyQt5.QtWidgets import QApplication,QWidget,QCalendarWidget,QLabel\n",
    "from PyQt5.QtCore import QDate\n",
    "\n",
    "class Example(QWidget):\n",
    "    def __init__(self):\n",
    "        super().__init__()\n",
    "        self.initUI()\n",
    "    def initUI(self):\n",
    "        cal=QCalendarWidget(self)\n",
    "        cal.setGridVisible(True)\n",
    "        cal.move(20,20)\n",
    "        cal.clicked[QDate].connect(self.showDate)\n",
    "        \n",
    "        self.lab=QLabel(self)\n",
    "        data=cal.selectedDate()\n",
    "        self.lab.setText(data.toString())\n",
    "        self.lab.move(130,260)\n",
    "        \n",
    "        self.setGeometry(300,300,350,350)\n",
    "        self.setWindowTitle('日历控件')\n",
    "        self.show()\n",
    "    def showDate(self,date):\n",
    "        self.lab.setText(date.toString())\n",
    "if __name__=='__main__':\n",
    "    app=QApplication(sys.argv)\n",
    "    ex=Example()\n",
    "    app.exec_()"
   ]
  },
  {
   "cell_type": "code",
   "execution_count": null,
   "metadata": {
    "collapsed": true
   },
   "outputs": [],
   "source": []
  }
 ],
 "metadata": {
  "kernelspec": {
   "display_name": "Python 3",
   "language": "python",
   "name": "python3"
  },
  "language_info": {
   "codemirror_mode": {
    "name": "ipython",
    "version": 3
   },
   "file_extension": ".py",
   "mimetype": "text/x-python",
   "name": "python",
   "nbconvert_exporter": "python",
   "pygments_lexer": "ipython3",
   "version": "3.6.2"
  }
 },
 "nbformat": 4,
 "nbformat_minor": 2
}
