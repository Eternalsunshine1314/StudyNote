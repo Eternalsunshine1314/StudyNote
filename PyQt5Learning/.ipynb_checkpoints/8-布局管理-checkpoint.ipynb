{
 "cells": [
  {
   "cell_type": "markdown",
   "metadata": {},
   "source": [
    "## 绝对定位\n",
    "\n",
    "每个控件按程序员指定的位置放置。当您使用绝对定位，我们要了解以下限制：\n",
    "\n",
    "* 如果我们调整窗口的大小控件的大小和位置保持不变\n",
    "* 在不同平台上应用程序看起来可能会不同\n",
    "* 更改字体可能会破坏应用程序的布局\n",
    "* 如果决定改变布局，我们必须每个控件彻底的加以修改，这是繁琐和耗时的\n"
   ]
  },
  {
   "cell_type": "code",
   "execution_count": 1,
   "metadata": {
    "collapsed": true
   },
   "outputs": [],
   "source": [
    "import sys\n",
    "from PyQt5.QtWidgets import QApplication, QWidget, QLabel\n",
    "\n",
    "class Example(QWidget):\n",
    "\n",
    "    def __init__(self):\n",
    "        super().__init__()\n",
    "\n",
    "        self.initUI()\n",
    "\n",
    "    def initUI(self):\n",
    "\n",
    "        lbl1 = QLabel('我的世界你曾经来过', self)\n",
    "        lbl1.move(15, 10)\n",
    "\n",
    "        lbl2 = QLabel('CSND博客', self)\n",
    "        lbl2.move(35, 40)\n",
    "\n",
    "        lbl3 = QLabel('程序员', self)\n",
    "        lbl3.move(55, 70)\n",
    "\n",
    "        self.setGeometry(300, 300, 250, 150)\n",
    "        self.setWindowTitle('绝对定位')        \n",
    "        self.show()\n",
    "\n",
    "if __name__ == '__main__':\n",
    "\n",
    "    app = QApplication(sys.argv)\n",
    "    ex = Example()\n",
    "    app.exec_()"
   ]
  },
  {
   "cell_type": "markdown",
   "metadata": {},
   "source": [
    "## Box layout盒子布局\n",
    "\n",
    "布局管理使用布局类的方式更加灵活、实用。它是将一个控件放在窗口中的首选方式。QHBoxLayout和QVBoxLayout分别是水平和垂直对齐控件的基本布局类。\n",
    "\n",
    "试想一下，我们希望把两个按钮在程序的右下角。要创建这样一个布局，我们可以使用一横一纵两个框。要创造必要的空余空间，我们将增加一个拉伸因子(stretch factor)"
   ]
  },
  {
   "cell_type": "code",
   "execution_count": 1,
   "metadata": {
    "collapsed": true
   },
   "outputs": [],
   "source": [
    "import sys\n",
    "from PyQt5.QtWidgets import (QApplication,QWidget,QPushButton,\n",
    "                             QVBoxLayout,QHBoxLayout)\n",
    "class Example(QWidget):\n",
    "\n",
    "    def __init__(self):\n",
    "        super().__init__()\n",
    "\n",
    "        self.initUI()\n",
    "    def initUI(self):\n",
    "        okButton=QPushButton('确定')\n",
    "        cancelButton=QPushButton('取消')\n",
    "        hbox=QHBoxLayout()\n",
    "        #hbox.addStretch(2)\n",
    "        hbox.addWidget(okButton)\n",
    "        hbox.addWidget(cancelButton)\n",
    "        \n",
    "        vbox=QVBoxLayout()\n",
    "        vbox.addStretch(-1)\n",
    "        vbox.addLayout(hbox)\n",
    "        \n",
    "        self.setLayout(vbox)\n",
    "        \n",
    "        self.setGeometry(300,300,1000,600)\n",
    "        self.setWindowTitle('Box布局')\n",
    "        self.show()\n",
    "        \n",
    "if __name__=='__main__':\n",
    "    app=QApplication(sys.argv)\n",
    "    mywin=Example()\n",
    "    app.exec_()\n",
    "                        "
   ]
  },
  {
   "cell_type": "code",
   "execution_count": null,
   "metadata": {
    "collapsed": true
   },
   "outputs": [],
   "source": []
  },
  {
   "cell_type": "code",
   "execution_count": null,
   "metadata": {
    "collapsed": true
   },
   "outputs": [],
   "source": []
  }
 ],
 "metadata": {
  "kernelspec": {
   "display_name": "Python 3",
   "language": "python",
   "name": "python3"
  },
  "language_info": {
   "codemirror_mode": {
    "name": "ipython",
    "version": 3
   },
   "file_extension": ".py",
   "mimetype": "text/x-python",
   "name": "python",
   "nbconvert_exporter": "python",
   "pygments_lexer": "ipython3",
   "version": "3.6.2"
  }
 },
 "nbformat": 4,
 "nbformat_minor": 2
}
