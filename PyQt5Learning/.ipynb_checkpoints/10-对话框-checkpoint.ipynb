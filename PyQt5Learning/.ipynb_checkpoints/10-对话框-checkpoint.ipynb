{
 "cells": [
  {
   "cell_type": "markdown",
   "metadata": {},
   "source": [
    "## QInputDialog输入对话框\n",
    "\n",
    "QInputDialog 提供了一种简单方便的对话框以获得来自用户的单个值。输入值可以是一个字符串，一个数字，或从列表中的一个项目。"
   ]
  },
  {
   "cell_type": "code",
   "execution_count": null,
   "metadata": {
    "collapsed": true
   },
   "outputs": [],
   "source": [
    "import sys\n",
    "from PyQt5.QtWidgets import (QApplication,QWidget,QPushButton,\n",
    "                             QLineEdit,QInputDialog)\n",
    "\n",
    "class Example(QWidget):\n",
    "    def init(self):\n",
    "        super().__ini__()\n",
    "        self.initUI()\n",
    "    def initUI(self):\n",
    "        self.btn=QPushButton('弹出对话框',self)\n",
    "        self.btn.move(20,20)\n",
    "        self.btn.clicked.connect(self.showDialog)\n",
    "        \n",
    "        self.le=QLineEdit(self)\n",
    "        self.le.move(130,22)\n",
    "        self.setGeometry(300,300,300,150)\n",
    "        self.setWindowTitle('输入对话框')\n",
    "        self.show()\n",
    "        \n",
    "    def showDialog(self):\n",
    "        text,ok=QInputDialog.getText(self,'输入对话框','请输入你的名字:')\n",
    "        if ok:\n",
    "            self.le.setText(text)\n",
    "if __name__=='__main__':\n",
    "    app=QApplication(sys.argv)\n",
    "    ex=Example()\n",
    "    app.exec_()"
   ]
  },
  {
   "cell_type": "markdown",
   "metadata": {},
   "source": [
    "这个例子中有一个按钮和一个单行文本编辑控件。点击按钮显示为获取文本值的输入对话框。点击OK按钮后输入的文本将显示在主窗口的行文本编辑控件中。\n",
    "```\n",
    "        text, ok = QInputDialog.getText(self, '输入对话框', '请输入你的名字：')\n",
    "```\n",
    "此行显示输入对话框。第一个字符串是对话框标题，第二个是在对话中显示的消息。对话框返回输入的文本和一个布尔值。如果单击确定按钮，布尔值是true。\n",
    "```\n",
    "        if ok:\n",
    "            self.le.setText(str(text))\n",
    "```\n",
    "我们从该对话框接收到的文本设置为单行文本编辑框控件的值。"
   ]
  },
  {
   "cell_type": "markdown",
   "metadata": {},
   "source": [
    "## QColorDialog颜色对话框\n",
    "\n",
    "QColorDialog 提供了用于选择颜色值的对话窗口控件。"
   ]
  },
  {
   "cell_type": "code",
   "execution_count": null,
   "metadata": {
    "collapsed": true
   },
   "outputs": [],
   "source": []
  }
 ],
 "metadata": {
  "kernelspec": {
   "display_name": "Python 3",
   "language": "python",
   "name": "python3"
  },
  "language_info": {
   "codemirror_mode": {
    "name": "ipython",
    "version": 3
   },
   "file_extension": ".py",
   "mimetype": "text/x-python",
   "name": "python",
   "nbconvert_exporter": "python",
   "pygments_lexer": "ipython3",
   "version": "3.6.2"
  }
 },
 "nbformat": 4,
 "nbformat_minor": 2
}
