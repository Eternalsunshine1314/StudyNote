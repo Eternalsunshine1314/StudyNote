{
 "cells": [
  {
   "cell_type": "markdown",
   "metadata": {},
   "source": [
    "最简单的关闭一个窗口的方法是点击标题栏上的 x 标志。但是，在下面的例子中，我们将展示如何通过编程来控制关闭窗口。我们将使用PyQt5的信号/槽。\n",
    "\n",
    "以下是我们在例子中使用到的 QPushButton 控件的构造方法。\n",
    "\n",
    "```QPushButton(string text, QWidget parent = None)\n",
    "```\n",
    "text 参数是在按钮上显示的文本。parent 要将按钮控件放在哪里。在下面的例子中我们要将按钮控件放到 QWidget里。一个应用程序的窗口控件可以形成一个分层结构，在这个层次，大多数控件有他们的父控件，没有父控件的控件即是顶层窗口。\n",
    "\n"
   ]
  },
  {
   "cell_type": "code",
   "execution_count": 1,
   "metadata": {
    "collapsed": false
   },
   "outputs": [
    {
     "ename": "SystemExit",
     "evalue": "0",
     "output_type": "error",
     "traceback": [
      "An exception has occurred, use %tb to see the full traceback.\n",
      "\u001b[0;31mSystemExit\u001b[0m\u001b[0;31m:\u001b[0m 0\n"
     ]
    },
    {
     "name": "stderr",
     "output_type": "stream",
     "text": [
      "/home/wenshao/anaconda3/lib/python3.6/site-packages/IPython/core/interactiveshell.py:2870: UserWarning: To exit: use 'exit', 'quit', or Ctrl-D.\n",
      "  warn(\"To exit: use 'exit', 'quit', or Ctrl-D.\", stacklevel=1)\n"
     ]
    }
   ],
   "source": [
    "import sys\n",
    "from PyQt5.QtWidgets import QApplication,QWidget,QPushButton,QToolTip\n",
    "from PyQt5.QtCore import QCoreApplication\n",
    "from PyQt5.QtGui import QFont\n",
    "class MyWIndow(QWidget):\n",
    "    def __init__(self):\n",
    "        super().__init__()\n",
    "        self.initUI()\n",
    "    def initUI(self):\n",
    "        QToolTip.setFont(QFont('Roman times',18))\n",
    "        btn=QPushButton('关闭',self)\n",
    "        btn.setToolTip('This is a close button')\n",
    "        btn.clicked.connect(QCoreApplication.instance().quit)\n",
    "        btn.resize(btn.sizeHint())\n",
    "        btn.move(300,300)\n",
    "        \n",
    "        self.setGeometry(300,300,1000,600)\n",
    "        self.setWindowTitle('Closed button test')\n",
    "        self.show()\n",
    "        \n",
    "if __name__=='__main__':\n",
    "    app=QApplication(sys.argv)\n",
    "    mywin=MyWIndow()\n",
    "    sys.exit(app.exec_())"
   ]
  },
  {
   "cell_type": "markdown",
   "metadata": {},
   "source": [
    "在这个例子中，我们创建了一个退出按钮。当点击按钮，应用程序终止。\n",
    "''\n",
    "from PyQt5.QtCore import QCoreApplication\n",
    "'\n",
    "我们需要使用 QtCore 模块中的 QCoreApplication 对象\n",
    "\n",
    "        btn = QPushButton('退出', self)\n",
    "1\n",
    "我们创建了一个按钮，按钮是 QPushButton 类的一个实例。构造函数的第一个参数是按钮的标签。第二个参数是父窗口控件。父窗口控件是Example 控件，这是一个继承自 QWidget 的类。\n",
    "\n",
    "        btn.clicked.connect(QCoreApplication.instance().quit)\n",
    "1\n",
    "该事件处理系统建立在 PyQt5 的信号/槽的机制上。如果我们点击该按钮，按钮将会发出信号，单击信号连接到 quit() 方法使应用程序终止。\n",
    "\n",
    "槽可以是 Qt 的槽也可以是 Python 的任何调用。 QCoreApplication 包含主事件循环；它处理和调度所有事件。instance()方法为我们提供了其当前实例。注意，区分 QCoreApplication 与 QApplication。\n",
    "\n",
    "发送器和接收器：在通信的两个对象之间进行。发送器是按钮，接收器是应用对象。\n",
    "\n",
    "概念有些混乱，这里整理一下：\n",
    "\n",
    "按钮(btn)是发送器。点击(clicked)按钮后，发出点击信号。点击信号连接(connect)到槽(可以是 Qt 的槽也可以是 Python 的任何调用)。\n",
    "\n",
    "在我们的例子中是Qt的槽，QCoreApplication处理和调度所有Qt事件，调度出instance（这个实例（接收器））的 quit 事件。"
   ]
  }
 ],
 "metadata": {
  "anaconda-cloud": {},
  "kernelspec": {
   "display_name": "Python [Root]",
   "language": "python",
   "name": "Python [Root]"
  },
  "language_info": {
   "codemirror_mode": {
    "name": "ipython",
    "version": 3
   },
   "file_extension": ".py",
   "mimetype": "text/x-python",
   "name": "python",
   "nbconvert_exporter": "python",
   "pygments_lexer": "ipython3",
   "version": "3.5.1"
  }
 },
 "nbformat": 4,
 "nbformat_minor": 2
}
