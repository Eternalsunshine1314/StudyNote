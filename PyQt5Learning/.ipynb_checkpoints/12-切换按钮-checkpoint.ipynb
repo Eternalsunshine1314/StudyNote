{
 "cells": [
  {
   "cell_type": "markdown",
   "metadata": {},
   "source": [
    "## 切换按钮\n",
    "切换按钮是QPushButton的特殊模式。它是一个具有两种状态的按钮：按压和未按压。我们通过这两种状态之间的切换来修改其它内容。"
   ]
  },
  {
   "cell_type": "code",
   "execution_count": 1,
   "metadata": {
    "collapsed": true
   },
   "outputs": [],
   "source": [
    "import sys\n",
    "from PyQt5.QtWidgets import QApplication,QWidget,QPushButton,QFrame\n",
    "from PyQt5.QtGui import QColor\n",
    "\n",
    "class Example(QWidget):\n",
    "    def __init__(self):\n",
    "        super().__init__()\n",
    "        self.initUI()\n",
    "    def initUI(self):\n",
    "        self.col=QColor(0,0,0)\n",
    "        rbtn=QPushButton('红',self)\n",
    "        rbtn.setCheckable(True)\n",
    "        rbtn.move(10,10)\n",
    "        \n",
    "        gbtn=QPushButton('绿',self)\n",
    "        gbtn.setCheckable(True)\n",
    "        gbtn.move(10,60)\n",
    "        \n",
    "        bbtn=QPushButton('蓝',self)\n",
    "        bbtn.setCheckable(True)\n",
    "        bbtn.move(10,110)\n",
    "        \n",
    "        rbtn.clicked[bool].connect(self.setColor)\n",
    "        gbtn.clicked[bool].connect(self.setColor)\n",
    "        bbtn.clicked[bool].connect(self.setColor)\n",
    "        \n",
    "        self.square=QFrame(self)\n",
    "        self.square.setGeometry(300,300,280,170)\n",
    "        self.setWindowTitle('切换按钮')\n",
    "        self.show()\n",
    "        \n",
    "    def setColor(self,pressed):\n",
    "        source=self.sender()\n",
    "        val=0\n",
    "        if pressed:\n",
    "            val=255\n",
    "        else:\n",
    "            val=0\n",
    "        if source.text=='红':\n",
    "            self.col.setRed(val)\n",
    "        elif source.text=='绿':\n",
    "            self.col.setGreen(val)\n",
    "        else:\n",
    "            self.col.setBlue(val)\n",
    "        self.square.setStyleSheet('QFrame { background-color:%s}'%self.col.name())\n",
    "        \n",
    "if __name__=='__main__':\n",
    "    app=QApplication(sys.argv)\n",
    "    ex=Example()\n",
    "    app.exec_()"
   ]
  },
  {
   "cell_type": "code",
   "execution_count": null,
   "metadata": {
    "collapsed": true
   },
   "outputs": [],
   "source": []
  }
 ],
 "metadata": {
  "kernelspec": {
   "display_name": "Python 3",
   "language": "python",
   "name": "python3"
  },
  "language_info": {
   "codemirror_mode": {
    "name": "ipython",
    "version": 3
   },
   "file_extension": ".py",
   "mimetype": "text/x-python",
   "name": "python",
   "nbconvert_exporter": "python",
   "pygments_lexer": "ipython3",
   "version": "3.6.2"
  }
 },
 "nbformat": 4,
 "nbformat_minor": 2
}
