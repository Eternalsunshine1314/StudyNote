{
 "cells": [
  {
   "cell_type": "markdown",
   "metadata": {},
   "source": [
    "# 做一个最简单的窗口\n",
    "这是在屏幕上显示一个空白窗口的简单例子。虽然简单，却有很多需要我们控制的内容，比如，我们可以调整它的大小，最大化或最小化，背景色等等。实现这些功能需要大量的编码，值得庆幸的是PyQt5已经将这些需要重复使用的功能以函数或模块的形式编写好了保存在文件中。因此我们没有必要从零开始的重新编写代码去实现这些功能而是直接调用即可。 PyQt5是一个高层次的工具包。如果我们使用一个较低水平工具箱编写代码，下面的代码示例将会达到数百行之多。"
   ]
  },
  {
   "cell_type": "code",
   "execution_count": 4,
   "metadata": {
    "collapsed": false
   },
   "outputs": [
    {
     "ename": "SystemExit",
     "evalue": "0",
     "output_type": "error",
     "traceback": [
      "An exception has occurred, use %tb to see the full traceback.\n",
      "\u001b[0;31mSystemExit\u001b[0m\u001b[0;31m:\u001b[0m 0\n"
     ]
    },
    {
     "name": "stderr",
     "output_type": "stream",
     "text": [
      "/home/wenshao/anaconda3/lib/python3.6/site-packages/IPython/core/interactiveshell.py:2870: UserWarning: To exit: use 'exit', 'quit', or Ctrl-D.\n",
      "  warn(\"To exit: use 'exit', 'quit', or Ctrl-D.\", stacklevel=1)\n"
     ]
    }
   ],
   "source": [
    "from PyQt5.QtWidgets import QApplication,QWidget\n",
    "import sys\n",
    "app=QApplication(sys.argv)\n",
    "myWin=QWidget()\n",
    "myWin.setWindowTitle('hello world')\n",
    "myWin.resize(1000,500)\n",
    "myWin.move(300,300)\n",
    "myWin.show()\n",
    "sys.exit(app.exec_())"
   ]
  },
  {
   "cell_type": "markdown",
   "metadata": {},
   "source": [
    "上面的代码示例执行后将在屏幕上显示一个空白的窗口。\n",
    "```\n",
    "import sys\n",
    "from PyQt5.QtWidgets import QApplication, QWidget\n",
    "```\n",
    "上面两行为将需要用到的模块引入。基本的控件都位于 PyQt5.QtWidgets 模块。\n",
    "```\n",
    "app = QApplication(sys.argv)\n",
    "```\n",
    "每个 PyQt5应用程序必须创建一个应用程序对象。Python 脚本可以从 shell中运行，sys.argv 参数是一个命令行列表参数，它告诉程序通过何种方式启动我们的脚本。\n",
    "```\n",
    "w = QWidget()\n",
    "```\n",
    "QWidget 控件是PyQt5中所有用户界面对象的基类。该控件为我们提供了默认的构造函数，默认的构造函数中显示该控件不继承任何父类。在PyQt5中没有父类的控件被定义为窗口。\n",
    "```\n",
    "w.resize(250, 150)\n",
    "```\n",
    "resize() 方法是调整控件的大小，这里设置成宽 250px 和高 150px 。\n",
    "```\n",
    "w.move(300, 300)\n",
    "```\n",
    "move() 方法是移动控件到屏幕上的一个位置，这里设置成 x=300，y=300 。\n",
    "```\n",
    "w.setWindowTitle('Simple')\n",
    "```\n",
    "这里为窗口设置标题，标题显示在窗口的标题栏中。\n",
    "```\n",
    "w.show()\n",
    "```\n",
    "show() 方法为在场景中显示控件。所有控件首先在内存中创建，然后在显示在屏幕中。\n",
    "```\n",
    "sys.exit(app.exec_())\n",
    "```\n",
    "最后，我们进入应用程序的主循环。事件处理从这点开始。主循环从窗口系统接收事件，并将它们分派给应用程序窗口部件。当结束主循环时如果我们调用 exit() 方法主控件将直接被销毁， sys.exit()方法为了确保干净的退出，环境将告知应用程序如何结束。\n",
    "\n",
    "exec_() 方法后缀下划线是因为 exec 是 Python 的关键字。因此，用 exec_()代替"
   ]
  },
  {
   "cell_type": "code",
   "execution_count": null,
   "metadata": {
    "collapsed": true
   },
   "outputs": [],
   "source": []
  }
 ],
 "metadata": {
  "kernelspec": {
   "display_name": "Python [Root]",
   "language": "python",
   "name": "Python [Root]"
  },
  "language_info": {
   "codemirror_mode": {
    "name": "ipython",
    "version": 3
   },
   "file_extension": ".py",
   "mimetype": "text/x-python",
   "name": "python",
   "nbconvert_exporter": "python",
   "pygments_lexer": "ipython3",
   "version": "3.5.1"
  }
 },
 "nbformat": 4,
 "nbformat_minor": 2
}
