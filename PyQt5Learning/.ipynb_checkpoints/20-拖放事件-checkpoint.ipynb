{
 "cells": [
  {
   "cell_type": "markdown",
   "metadata": {},
   "source": [
    "在电脑图形用户界面，拖放事件就是点击一个虚拟对象，并将其拖动到其他位置或到另一个虚拟物体的动作。在一般情况下，它可以被用于调用多种动作，或创建两个抽象对象之间的关联的各种类型。\n",
    "\n",
    "拖放事件是图形用户界面的一部分。拖放操作使用户能够直观地操作一些复杂的事情。\n",
    "\n",
    "通常情况下，我们可以拖放两种类型：数据或某些图形对象。如果我们从一个应用程序拖动图像到另一个，我们拖放的是二进制数据。如果我们拖放Firefox标签并将其移动到另一个地方，我们拖放的是图形组件。"
   ]
  },
  {
   "cell_type": "markdown",
   "metadata": {},
   "source": [
    "## 简单拖放事件\n",
    "\n",
    "在这个例子中，我们有一个QLineEdit控件和一个QPushButton控件。我们从单行文本编辑控件中将输入的文本选中后拖到按钮控件上后松开鼠标，按钮的标签将发生变化。"
   ]
  },
  {
   "cell_type": "code",
   "execution_count": 1,
   "metadata": {
    "collapsed": true
   },
   "outputs": [],
   "source": [
    "import sys\n",
    "from PyQt5.QtWidgets import QApplication, QWidget, QLineEdit, QPushButton\n",
    "\n",
    "class Button(QPushButton):\n",
    "\n",
    "    def __init__(self, title, parent):\n",
    "        super().__init__(title, parent)\n",
    "        self.setAcceptDrops(True)\n",
    "\n",
    "    def dragEnterEvent(self, e):\n",
    "        if e.mimeData().hasFormat('text/plain'):\n",
    "            e.accept()\n",
    "        else:\n",
    "            e.ignore()\n",
    "    def dropEvent(self, e):\n",
    "        self.setText(e.mimeData().text())\n",
    "\n",
    "class Example(QWidget):\n",
    "\n",
    "    def __init__(self):\n",
    "        super().__init__()\n",
    "\n",
    "        self.initUI()\n",
    "\n",
    "    def initUI(self):\n",
    "\n",
    "        edit = QLineEdit('', self)\n",
    "        edit.setDragEnabled(True)\n",
    "        edit.move(30, 65)\n",
    "\n",
    "        button = Button('按钮', self)\n",
    "        button.move(190, 65)\n",
    "\n",
    "        self.setGeometry(300, 300, 300, 150)\n",
    "        self.setWindowTitle('简单拖放')        \n",
    "\n",
    "if __name__ == '__main__':\n",
    "\n",
    "    app = QApplication(sys.argv)\n",
    "    ex = Example()\n",
    "    ex.show()\n",
    "    app.exec_()"
   ]
  },
  {
   "cell_type": "markdown",
   "metadata": {},
   "source": [
    "这个例子介绍了一个简单的拖放操作。\n",
    "```\n",
    "class Button(QPushButton):\n",
    "\n",
    "    def __init__(self, title, parent):\n",
    "        super().__init__(title, parent)\n",
    "        self.setAcceptDrops(True)\n",
    "```\n",
    "为了在QPushButton控件中显示放置的文字，我们必须将QPushButton控件的一些方法重写。因此，我们创造我们自己的按钮类将从QPushButton类继承。\n",
    "```\n",
    "        self.setAcceptDrops(True)\n",
    "```\n",
    "为控件启用拖放事件。\n",
    "```\n",
    "    def dragEnterEvent(self, e):\n",
    "        if e.mimeData().hasFormat('text/plain'):\n",
    "            e.accept()\n",
    "        else:\n",
    "            e.ignore()\n",
    "```\n",
    "首先，重写了dragEnterEvent()方法。告知我们接受的数据类型(text/plain)。通常情况下，它是纯文本。\n",
    "```\n",
    "    def dropEvent(self, e):\n",
    "        self.setText(e.mimeData().text())\n",
    "```\n",
    "接下来重写了dropEvent()方法，这里定义了drop事件将要做的事情。在这里我们改变按钮控件的文本。\n",
    "```\n",
    "        edit = QLineEdit('', self)\n",
    "        edit.setDragEnabled(True)\n",
    "```\n",
    "若要启用QLineEdit控件的拖动操作，需要做的是调用setDragEnabled()方法来激活它。"
   ]
  },
  {
   "cell_type": "markdown",
   "metadata": {},
   "source": [
    "## 拖放按钮控件\n",
    "\n",
    "在下面的例子中，我们将演示如何拖放一个按钮控件。"
   ]
  },
  {
   "cell_type": "code",
   "execution_count": 1,
   "metadata": {
    "collapsed": false
   },
   "outputs": [
    {
     "name": "stdout",
     "output_type": "stream",
     "text": [
      "press\n",
      "press\n",
      "press\n"
     ]
    }
   ],
   "source": [
    "import sys\n",
    "from PyQt5.QtWidgets import QApplication, QWidget, QPushButton\n",
    "from PyQt5.QtCore import Qt, QMimeData\n",
    "from PyQt5.QtGui import QDrag\n",
    "\n",
    "class Button(QPushButton):\n",
    "\n",
    "    def __init__(self, title, parent):\n",
    "        super().__init__(title, parent)\n",
    "\n",
    "    def mouseMoveEvent(self, e):\n",
    "        if e.buttons() != Qt.RightButton:\n",
    "            return\n",
    "        mimeData = QMimeData()\n",
    "        drag = QDrag(self)\n",
    "        drag.setMimeData(mimeData)\n",
    "        drag.setHotSpot(e.pos() - self.rect().topLeft())\n",
    "        drag.exec_(Qt.MoveAction)\n",
    "\n",
    "    def mousePressEvent(self, e):\n",
    "        QPushButton.mousePressEvent(self, e)\n",
    "        if e.button() == Qt.LeftButton:\n",
    "            print('press')\n",
    "\n",
    "class Example(QWidget):\n",
    "\n",
    "    def __init__(self):\n",
    "        super().__init__()\n",
    "\n",
    "        self.initUI()\n",
    "\n",
    "    def initUI(self):\n",
    "\n",
    "        self.setAcceptDrops(True)\n",
    "\n",
    "        self.button = Button('按钮', self)\n",
    "        self.button.move(100, 65)\n",
    "\n",
    "        self.setGeometry(300, 300, 280, 150)\n",
    "        self.setWindowTitle('按钮拖放')\n",
    "\n",
    "    def dragEnterEvent(self, e):\n",
    "        e.accept()\n",
    "\n",
    "    def dropEvent(self, e):\n",
    "        position = e.pos()\n",
    "        self.button.move(position)\n",
    "\n",
    "        e.setDropAction(Qt.MoveAction)\n",
    "        e.accept()\n",
    "\n",
    "if __name__ == '__main__':\n",
    "\n",
    "    app = QApplication(sys.argv)\n",
    "    ex = Example()\n",
    "    ex.show()\n",
    "    app.exec_()"
   ]
  },
  {
   "cell_type": "markdown",
   "metadata": {},
   "source": [
    "在我们的代码示例中，窗口有一个QPushButton 按钮。如果我们用鼠标左键按下按钮，’press’ 消息打印到控制台。如果用鼠标右键按住按钮并移动鼠标，程序将执行一个拖放按钮控件事件。\n",
    "```\n",
    "class Button(QPushButton):\n",
    "\n",
    "    def __init__(self, title, parent):\n",
    "        super().__init__(title, parent)\n",
    "```\n",
    "创建一个Button 类从QPushButton派生。我们还重写了QPushButton的两种方法：mouseMoveEvent()和mousePressEvent()。该mouseMoveEvent()方法是其中拖放操作开始的地方。\n",
    "```\n",
    "        if e.buttons() != Qt.RightButton:\n",
    "            return\n",
    "```\n",
    "在这里，我们确认执行拖放事件只能使用鼠标右键。鼠标左键被保留用于单击按钮事件。\n",
    "```\n",
    "        mimeData = QMimeData()\n",
    "        drag = QDrag(self)\n",
    "        drag.setMimeData(mimeData)\n",
    "        drag.setHotSpot(e.pos() - self.rect().topLeft())\n",
    "```\n",
    "创建QDrag 对象。这个类提供了基于MIME的拖放数据传输的支持。\n",
    "```\n",
    "        drag.exec_(Qt.MoveAction)\n",
    "```\n",
    "拖动对象的start()开始方法。\n",
    "```\n",
    "    def mousePressEvent(self, e):\n",
    "        QPushButton.mousePressEvent(self, e)\n",
    "        if e.button() == Qt.LeftButton:\n",
    "            print('press')\n",
    "```\n",
    "如果我们使用鼠标左键点击按钮，打印 ‘press’ 到控制台。请注意，我们使用mousePressEvent()方法获取鼠标按键信息。\n",
    "```\n",
    "        position = e.pos()\n",
    "        self.button.move(position)\n",
    "```\n",
    "在dropEvent()方法中的代码告诉我们，松开鼠标按钮完成拖放操作。找出当前鼠标指针位置并将按钮移动到相应的位置。\n",
    "```\n",
    "        e.setDropAction(Qt.MoveAction)\n",
    "        e.accept()\n",
    "```\n",
    "我们指定放置动作的类型。在当前情况下，它是一个移动动作。"
   ]
  },
  {
   "cell_type": "code",
   "execution_count": null,
   "metadata": {
    "collapsed": true
   },
   "outputs": [],
   "source": []
  }
 ],
 "metadata": {
  "anaconda-cloud": {},
  "kernelspec": {
   "display_name": "Python [Root]",
   "language": "python",
   "name": "Python [Root]"
  },
  "language_info": {
   "codemirror_mode": {
    "name": "ipython",
    "version": 3
   },
   "file_extension": ".py",
   "mimetype": "text/x-python",
   "name": "python",
   "nbconvert_exporter": "python",
   "pygments_lexer": "ipython3",
   "version": "3.5.1"
  }
 },
 "nbformat": 4,
 "nbformat_minor": 0
}
