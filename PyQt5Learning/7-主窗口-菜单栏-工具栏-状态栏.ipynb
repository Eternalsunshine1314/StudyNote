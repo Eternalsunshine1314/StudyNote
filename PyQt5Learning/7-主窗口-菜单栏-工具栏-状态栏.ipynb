{
 "cells": [
  {
   "cell_type": "markdown",
   "metadata": {},
   "source": [
    "# Main Window主窗口\n",
    "\n",
    "在PyQt5中，菜单与工具栏只出现在在主应用程序窗口（QMainWindow 类）。在主窗口的框架中包括了**状态栏、工具栏和菜单栏**。"
   ]
  },
  {
   "cell_type": "markdown",
   "metadata": {},
   "source": [
    "## Statusbar状态栏\n",
    "\n",
    "statusbar是用于显示控件的状态信息。"
   ]
  },
  {
   "cell_type": "code",
   "execution_count": 1,
   "metadata": {
    "collapsed": true
   },
   "outputs": [],
   "source": [
    "import sys \n",
    "from PyQt5.QtWidgets import QApplication,QWidget,QMainWindow,QDesktopWidget\n",
    "\n",
    "class MyWIndow(QMainWindow):\n",
    "    def __init__(self):\n",
    "        super().__init__()\n",
    "        self.initUI()\n",
    "    def initUI(self):\n",
    "        self.statusBar().showMessage('这是状态栏')\n",
    "        self.setGeometry(300,300,1000,600)\n",
    "        self.setWindowTitle('移动中屏幕中心')\n",
    "        self.center()\n",
    "        self.show()\n",
    "        \n",
    "    def center(self):\n",
    "        qr=self.frameGeometry()\n",
    "        cp=QDesktopWidget().availableGeometry().center()\n",
    "        qr.moveCenter(cp)\n",
    "        self.move(qr.topLeft())\n",
    "if __name__=='__main__':\n",
    "    app=QApplication(sys.argv)\n",
    "    mywin=MyWIndow()\n",
    "    app.exec_()"
   ]
  },
  {
   "cell_type": "markdown",
   "metadata": {
    "collapsed": true
   },
   "source": [
    "在这个例子中 状态栏 显示的是QMainWindow 控件的状态信息。\n",
    "```\n",
    "        self.statusBar().showMessage('这里是状态栏...')\n",
    "```\n",
    "为了获得QMainWindow 控件的状态信息，我们首先调用QMainWindow 的 statusBar() 方法创建状态栏，然后用 showMessage() 显示反馈到状态栏的信息。\n",
    "\n"
   ]
  },
  {
   "cell_type": "markdown",
   "metadata": {},
   "source": [
    "## Menubar菜单栏\n",
    "\n",
    "菜单栏是GUI应用程序的公共部分，它包括一组不同的命令。(Mac OS菜单栏不同，为获得类似效果我们可以在代码中添加下面一行：menubar.setNativeMenuBar(False))"
   ]
  },
  {
   "cell_type": "code",
   "execution_count": 1,
   "metadata": {
    "collapsed": true
   },
   "outputs": [],
   "source": [
    "import sys\n",
    "from PyQt5.QtWidgets import QDesktopWidget,QApplication,QMainWindow,QWidget,QAction,qApp\n",
    "from PyQt5.QtGui import QIcon\n",
    "class MyWIndow(QMainWindow):\n",
    "    def __init__(self):\n",
    "        super().__init__()\n",
    "        self.initUI()\n",
    "    def initUI(self):\n",
    "        self.setGeometry(300,300,1000,600)\n",
    "        self.setWindowTitle('菜单栏')\n",
    "        self.center()\n",
    "        \n",
    "        exitAction=QAction(QIcon('icon-exit.jpg'),'&退出',self)\n",
    "        exitAction.setShortcut('Ctrl+Q')\n",
    "        exitAction.setStatusTip('退出应用程序')\n",
    "        exitAction.triggered.connect(qApp.quit)\n",
    "        \n",
    "        #添加菜单栏\n",
    "        menuBar=self.menuBar()\n",
    "        fileMenu=menuBar.addMenu('&文件')\n",
    "        fileMenu.addAction(exitAction)\n",
    "        \n",
    "        self.statusBar()\n",
    "        self.show()\n",
    "        \n",
    "    def center(self):\n",
    "        qr=self.frameGeometry()\n",
    "        cp=QDesktopWidget().availableGeometry().center()\n",
    "        qr.moveCenter(cp)\n",
    "        self.move(qr.topLeft())\n",
    "if __name__=='__main__':\n",
    "    app=QApplication(sys.argv)\n",
    "    mywin=MyWIndow()\n",
    "    app.exec_()\n"
   ]
  },
  {
   "cell_type": "markdown",
   "metadata": {
    "collapsed": true
   },
   "source": [
    "在上面的例子中，我们为菜单栏创建了一个菜单。此菜单响应退出动作，如果选择将终止应用程序。状态栏显示的是该动作的信息。该行动的快捷键是Ctrl+ Q。\n",
    "```\n",
    "        exitAction = QAction(QIcon('F:\\Python\\PyQt5\\MenusAndToolbar\\images\\exit.png'), '&退出', self)\n",
    "        exitAction.setShortcut('Ctrl+Q')\n",
    "        exitAction.setStatusTip('退出应用程序')\n",
    "```\n",
    "QAction 是为 菜单栏, 工具栏, 或是自定义的快捷键 执行的抽象动作对象。上面三行中，第一行我们为抽象动作对象(QAction)创建了一个图标(QIcon)和退出标签(&退出)并附加到父类(self)。第二行设置了抽象动作的快捷键。第三行设置了抽象动作的在状态栏显示的信息，当我们将鼠标悬停在菜单项的鼠标指针状态提示。\n",
    "```\n",
    "        exitAction.triggered.connect(qApp.quit)\n",
    "```\n",
    "这个抽象动作对象(exitAction)的触发信号(triggered)连接(connect)到槽(qApp.quit)，quit()方法将终止该应用程序。\n",
    "```\n",
    "        menubar = self.menuBar()\n",
    "        fileMenu = menubar.addMenu('&文件')\n",
    "        fileMenu.addAction(exitAction)\n",
    "```\n",
    "menuBar()方法将创建一个菜单栏，创建完菜单栏后添加(addMenu)一个菜单，最后为菜单添加(addAction)我们上面的抽象动作(exitAction)。"
   ]
  },
  {
   "cell_type": "markdown",
   "metadata": {},
   "source": [
    "## Toolbar工具栏\n",
    "\n",
    "应用程序中菜单里的所有命令我们都可以在工具栏以图标按钮的形式供快速访问"
   ]
  },
  {
   "cell_type": "code",
   "execution_count": 2,
   "metadata": {
    "collapsed": true
   },
   "outputs": [],
   "source": [
    "import sys\n",
    "from PyQt5.QtWidgets import QDesktopWidget,QApplication,QMainWindow,QWidget,QAction,qApp\n",
    "from PyQt5.QtGui import QIcon\n",
    "class MyWIndow(QMainWindow):\n",
    "    def __init__(self):\n",
    "        super().__init__()\n",
    "        self.initUI()\n",
    "    def initUI(self):\n",
    "        self.setGeometry(300,300,1000,600)\n",
    "        self.setWindowTitle('菜单栏')\n",
    "        self.center()\n",
    "        \n",
    "        exitAction=QAction(QIcon('icon-exit.jpg'),'&退出',self)\n",
    "        exitAction.setShortcut('Ctrl+Q')\n",
    "        exitAction.setStatusTip('退出应用程序')\n",
    "        exitAction.triggered.connect(qApp.quit)\n",
    "        \n",
    "        #添加工具栏\n",
    "        self.toolBar=self.addToolBar('退出')\n",
    "        self.toolBar.addAction(exitAction)\n",
    "        \n",
    "        self.statusBar()\n",
    "        self.show()\n",
    "        \n",
    "    def center(self):\n",
    "        qr=self.frameGeometry()\n",
    "        cp=QDesktopWidget().availableGeometry().center()\n",
    "        qr.moveCenter(cp)\n",
    "        self.move(qr.topLeft())\n",
    "if __name__=='__main__':\n",
    "    app=QApplication(sys.argv)\n",
    "    mywin=MyWIndow()\n",
    "    app.exec_()\n"
   ]
  },
  {
   "cell_type": "markdown",
   "metadata": {},
   "source": [
    "在上面的例子中，我们创建一个工具栏。工具栏有一个工具的动作，触发时它时将执行退出动作而终止应用程序。\n",
    "```\n",
    "        exitAction = QAction(QIcon('F:\\Python\\PyQt5\\MenusAndToolbar\\images\\exit.png'), '&退出', self)\n",
    "        exitAction.setShortcut('Ctrl+Q')\n",
    "        exitAction.setStatusTip('退出应用程序')\n",
    "        exitAction.triggered.connect(qApp.quit)\n",
    "```\n",
    "上面的内容与菜单栏的例子类似。我们创建了一个操作对象，该对象有一个标签，图标和快捷方式，鼠标放在上面时状态栏会显示该对象的简要说明。触发信号连接到quit()方法。\n",
    "```\n",
    "        self.toolbar = self.addToolBar('退出')\n",
    "        self.toolbar.addAction(exitAction)\n",
    "```\n",
    "在这里，我们创建了一个工具栏并放入(addAction)操作对象。"
   ]
  },
  {
   "cell_type": "code",
   "execution_count": null,
   "metadata": {},
   "outputs": [],
   "source": [
    "import sys\n",
    "from PyQt5.QtWidgets import QMainWindow, QApplication, QAction, QTextEdit\n",
    "from PyQt5.QtGui import QIcon\n",
    "\n",
    "class Example(QMainWindow):\n",
    "\n",
    "    def __init__(self):\n",
    "        super().__init__()\n",
    "\n",
    "        self.initUI()\n",
    "\n",
    "    def initUI(self):\n",
    "\n",
    "        textEdit = QTextEdit()\n",
    "        self.setCentralWidget(textEdit)\n",
    "\n",
    "        exitAction = QAction(QIcon('icon-exit.jpg'), '&退出', self)\n",
    "        exitAction.setShortcut('Ctrl+Q')\n",
    "        exitAction.setStatusTip('退出应用程序')\n",
    "        exitAction.triggered.connect(self.close)\n",
    "\n",
    "        self.statusBar()\n",
    "\n",
    "        menubar = self.menuBar()\n",
    "        fileMenu = menubar.addMenu('&文件')\n",
    "        fileMenu.addAction(exitAction)\n",
    "\n",
    "        self.toolbar = self.addToolBar('退出')\n",
    "        self.toolbar.addAction(exitAction)\n",
    "\n",
    "        self.setGeometry(300, 300, 400, 300)        \n",
    "        self.setWindowTitle('主窗口')        \n",
    "        self.show()\n",
    "\n",
    "if __name__ == '__main__':\n",
    "\n",
    "    app = QApplication(sys.argv)\n",
    "    ex = Example()\n",
    "    app.exec_()"
   ]
  },
  {
   "cell_type": "markdown",
   "metadata": {},
   "source": [
    "示例创建了一个菜单栏、工具栏和一个状态栏，这是经典GUI应用程序的框架。\n",
    "```\n",
    "        textEdit = QTextEdit()\n",
    "        self.setCentralWidget(textEdit)\n",
    "```\n",
    "\n",
    "在这里，我们创建一个文本编辑控件。我们将其设置成为QMainWindow中的中心控件。中心控件将占用剩下的所有空间。"
   ]
  },
  {
   "cell_type": "code",
   "execution_count": null,
   "metadata": {
    "collapsed": true
   },
   "outputs": [],
   "source": []
  }
 ],
 "metadata": {
  "kernelspec": {
   "display_name": "Python 3",
   "language": "python",
   "name": "python3"
  },
  "language_info": {
   "codemirror_mode": {
    "name": "ipython",
    "version": 3
   },
   "file_extension": ".py",
   "mimetype": "text/x-python",
   "name": "python",
   "nbconvert_exporter": "python",
   "pygments_lexer": "ipython3",
   "version": "3.6.2"
  }
 },
 "nbformat": 4,
 "nbformat_minor": 2
}
