{
 "cells": [
  {
   "cell_type": "markdown",
   "metadata": {},
   "source": [
    "## QInputDialog输入对话框\n",
    "\n",
    "QInputDialog 提供了一种简单方便的对话框以获得来自用户的单个值。输入值可以是一个字符串，一个数字，或从列表中的一个项目。"
   ]
  },
  {
   "cell_type": "code",
   "execution_count": null,
   "metadata": {
    "collapsed": true
   },
   "outputs": [],
   "source": [
    "import sys\n",
    "from PyQt5.QtWidgets import (QApplication,QWidget,QPushButton,\n",
    "                             QLineEdit,QInputDialog)\n",
    "\n",
    "class Example(QWidget):\n",
    "    def init(self):\n",
    "        super().__ini__()\n",
    "        self.initUI()\n",
    "    def initUI(self):\n",
    "        self.btn=QPushButton('弹出对话框',self)\n",
    "        self.btn.move(20,20)\n",
    "        self.btn.clicked.connect(self.showDialog)\n",
    "        \n",
    "        self.le=QLineEdit(self)\n",
    "        self.le.move(130,22)\n",
    "        self.setGeometry(300,300,300,150)\n",
    "        self.setWindowTitle('输入对话框')\n",
    "        self.show()\n",
    "        \n",
    "    def showDialog(self):\n",
    "        text,ok=QInputDialog.getText(self,'输入对话框','请输入你的名字:')\n",
    "        if ok:\n",
    "            self.le.setText(text)\n",
    "if __name__=='__main__':\n",
    "    app=QApplication(sys.argv)\n",
    "    ex=Example()\n",
    "    app.exec_()"
   ]
  },
  {
   "cell_type": "markdown",
   "metadata": {},
   "source": [
    "这个例子中有一个按钮和一个单行文本编辑控件。点击按钮显示为获取文本值的输入对话框。点击OK按钮后输入的文本将显示在主窗口的行文本编辑控件中。\n",
    "```\n",
    "        text, ok = QInputDialog.getText(self, '输入对话框', '请输入你的名字：')\n",
    "```\n",
    "此行显示输入对话框。第一个字符串是对话框标题，第二个是在对话中显示的消息。对话框返回输入的文本和一个布尔值。如果单击确定按钮，布尔值是true。\n",
    "```\n",
    "        if ok:\n",
    "            self.le.setText(str(text))\n",
    "```\n",
    "我们从该对话框接收到的文本设置为单行文本编辑框控件的值。"
   ]
  },
  {
   "cell_type": "markdown",
   "metadata": {},
   "source": [
    "## QColorDialog颜色对话框\n",
    "\n",
    "QColorDialog 提供了用于选择颜色值的对话窗口控件。"
   ]
  },
  {
   "cell_type": "code",
   "execution_count": null,
   "metadata": {
    "collapsed": true
   },
   "outputs": [],
   "source": [
    "import sys\n",
    "from PyQt5.QtWidgets import (QApplication, QWidget, QPushButton, \n",
    "QFrame, QColorDialog)\n",
    "from PyQt5.QtGui import QColor\n",
    "\n",
    "class Example(QWidget):\n",
    "\n",
    "    def __init__(self):\n",
    "        super().__init__()\n",
    "\n",
    "        self.initUI()\n",
    "\n",
    "    def initUI(self):\n",
    "\n",
    "        col = QColor(0, 0, 0)\n",
    "\n",
    "        self.btn = QPushButton('对话框', self)\n",
    "        self.btn.move(20, 20)\n",
    "        self.btn.clicked.connect(self.showDialog)\n",
    "\n",
    "        self.frm = QFrame(self)\n",
    "        self.frm.setStyleSheet('QWidget { background-color: %s }' % col.name())\n",
    "        self.frm.setGeometry(130, 22, 100, 100)\n",
    "\n",
    "        self.setGeometry(300, 300, 250, 180)\n",
    "        self.setWindowTitle('颜色对话框')        \n",
    "        self.show()\n",
    "\n",
    "    def showDialog(self):\n",
    "\n",
    "        col = QColorDialog.getColor()\n",
    "        print(col)\n",
    "        if col.isValid():\n",
    "            self.frm.setStyleSheet('QWidget { background-color: %s }' % col.name())\n",
    "            self.setStyleSheet('QWidget { background-color: %s }' % col.name())\n",
    "\n",
    "if __name__ == '__main__':\n",
    "\n",
    "    app = QApplication(sys.argv)\n",
    "    ex = Example()\n",
    "    sys.exit(app.exec_())"
   ]
  },
  {
   "cell_type": "markdown",
   "metadata": {},
   "source": [
    "选择我们需要的颜色，如果点击取消按钮，返回没有有效的颜色。如果点击OK按钮我们选择的颜色是有效的，这样QFrame控件的背景色将会改变成我们选中的颜色。"
   ]
  },
  {
   "cell_type": "markdown",
   "metadata": {},
   "source": [
    "## QFontDialog字体对话框\n",
    "\n",
    "QFontDialog 是用于选择字体的对话窗口控件。"
   ]
  },
  {
   "cell_type": "code",
   "execution_count": null,
   "metadata": {
    "collapsed": true
   },
   "outputs": [],
   "source": [
    "import sys\n",
    "from PyQt5.QtWidgets import (QApplication, QWidget, QPushButton, \n",
    "QVBoxLayout, QSizePolicy, QLabel, QFontDialog)\n",
    "\n",
    "class Example(QWidget):\n",
    "\n",
    "    def __init__(self):\n",
    "        super().__init__()\n",
    "\n",
    "        self.initUI()\n",
    "\n",
    "    def initUI(self):\n",
    "\n",
    "        vbox = QVBoxLayout()\n",
    "\n",
    "        btn = QPushButton('对话框', self)\n",
    "        btn.setSizePolicy(QSizePolicy.Fixed, QSizePolicy.Fixed)\n",
    "        btn.move(20, 20)\n",
    "\n",
    "        vbox.addWidget(btn)\n",
    "\n",
    "        btn.clicked.connect(self.showDialog)\n",
    "\n",
    "        self.lb1 = QLabel('我的世界你曾经来过', self)\n",
    "        self.lb1.move(130, 20)\n",
    "\n",
    "        vbox.addWidget(self.lb1)\n",
    "        self.setLayout(vbox)\n",
    "\n",
    "        self.setGeometry(300, 300, 250, 180)\n",
    "        self.setWindowTitle('字体对话框')        \n",
    "        self.show()\n",
    "\n",
    "    def showDialog(self):\n",
    "\n",
    "        font, ok = QFontDialog.getFont()\n",
    "        if ok:\n",
    "            self.lb1.setFont(font)\n",
    "\n",
    "if __name__ == '__main__':\n",
    "\n",
    "    app = QApplication(sys.argv)\n",
    "    ex = Example()\n",
    "    sys.exit(app.exec_())"
   ]
  },
  {
   "cell_type": "markdown",
   "metadata": {},
   "source": [
    "在我们的例子中，我们有一个按钮和一个标签。点击按钮打开QFontDialog，通过更改字体对话框中的选项而改变标签的字体。\n",
    "```\n",
    "        font, ok = QFontDialog.getFont()\n",
    "```\n",
    "弹出字体对话框后，getFont()方法返回的字体中的各项参数与OK参数。如果用户点击OK，为true否则为false。\n",
    "```\n",
    "        if ok:\n",
    "            self.lb1.setFont(font)\n",
    "```\n",
    "如果我们点击Ok，标签的字体将被改变。"
   ]
  },
  {
   "cell_type": "markdown",
   "metadata": {},
   "source": [
    "## QFileDialog文件对话框\n",
    "\n",
    "QFileDialog 是一个文件对话框，允许用户选择文件或目录。然后，可以打开或保存文件"
   ]
  },
  {
   "cell_type": "code",
   "execution_count": null,
   "metadata": {
    "collapsed": true
   },
   "outputs": [],
   "source": [
    "import sys\n",
    "from PyQt5.QtWidgets import (QApplication, QMainWindow, \n",
    "QTextEdit, QAction, QFileDialog)\n",
    "from PyQt5.QtGui import QIcon\n",
    "\n",
    "class Example(QMainWindow):\n",
    "\n",
    "    def __init__(self):\n",
    "        super().__init__()\n",
    "\n",
    "        self.initUI()\n",
    "\n",
    "    def initUI(self):\n",
    "\n",
    "        self.textEdit = QTextEdit()\n",
    "        self.setCentralWidget(self.textEdit)\n",
    "        self.statusBar()\n",
    "\n",
    "        openFile = QAction(QIcon('F:\\Python\\PyQt5\\Dialogs\\images\\open.png'), '打开', self)\n",
    "        openFile.setShortcut('Ctrl+O')\n",
    "        openFile.setStatusTip('打开一个文件')\n",
    "        openFile.triggered.connect(self.showDialog)\n",
    "\n",
    "        menubar = self.menuBar()\n",
    "        fileMenu = menubar.addMenu('&文件')\n",
    "        fileMenu.addAction(openFile)\n",
    "\n",
    "        self.setGeometry(300, 300, 350, 300)\n",
    "        self.setWindowTitle('文件选择')        \n",
    "        self.show()\n",
    "\n",
    "    def showDialog(self):\n",
    "\n",
    "        fname = QFileDialog.getOpenFileName(self, '打开文件', '/')\n",
    "        if fname[0]:\n",
    "            f = open(fname[0], 'r')\n",
    "            with f:\n",
    "                data = f.read()\n",
    "                self.textEdit.setText(str(data))\n",
    "\n",
    "if __name__ == '__main__':\n",
    "\n",
    "    app = QApplication(sys.argv)\n",
    "    ex = Example()\n",
    "    sys.exit(app.exec_())"
   ]
  },
  {
   "cell_type": "markdown",
   "metadata": {},
   "source": [
    "这个例子使用了菜单，文本编辑控件和一个状态栏，点击菜单项显示QtGui.QFileDialog用来选择一个文件，打开后该文件的内容被加载到文本编辑控件中。\n",
    "```\n",
    "class Example(QMainWindow):\n",
    "\n",
    "    def __init__(self):\n",
    "        super().__init__()\n",
    "\n",
    "        self.initUI()\n",
    "```\n",
    "这个例子是基于QMainWindow 控件的，因为我们要使用文本编辑部件和菜单栏状态栏。\n",
    "```\n",
    "        fname = QFileDialog.getOpenFileName(self, '打开文件', '/')\n",
    "```\n",
    "弹出QFileDialog。在getOpenFileName()方法中的第一个字符串是标题。第二个字符串指定对话框的工作目录。默认情况下，文件过滤器设置为所有文件（*）。\n",
    "```\n",
    "        if fname[0]:\n",
    "            f = open(fname[0], 'r')\n",
    "            with f:\n",
    "                data = f.read()\n",
    "                self.textEdit.setText(str(data))\n",
    "```\n",
    "选择的文件名被读取和该文件的内容被设置到文本编辑控件。"
   ]
  },
  {
   "cell_type": "code",
   "execution_count": null,
   "metadata": {
    "collapsed": true
   },
   "outputs": [],
   "source": []
  }
 ],
 "metadata": {
  "kernelspec": {
   "display_name": "Python [Root]",
   "language": "python",
   "name": "Python [Root]"
  },
  "language_info": {
   "codemirror_mode": {
    "name": "ipython",
    "version": 3
   },
   "file_extension": ".py",
   "mimetype": "text/x-python",
   "name": "python",
   "nbconvert_exporter": "python",
   "pygments_lexer": "ipython3",
   "version": "3.5.1"
  }
 },
 "nbformat": 4,
 "nbformat_minor": 2
}
