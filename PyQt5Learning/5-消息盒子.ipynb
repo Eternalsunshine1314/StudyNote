{
 "cells": [
  {
   "cell_type": "markdown",
   "metadata": {},
   "source": [
    "默认情况下，如果我们点击标题栏上的 X 按钮，QWidget 关闭。有时候，我们需要改变这个默认行为。例如，如果我们有一个文件，要在编辑器中打开，我们可以先显示一个消息框，确认打开与否的操作。"
   ]
  },
  {
   "cell_type": "code",
   "execution_count": 3,
   "metadata": {
    "collapsed": true
   },
   "outputs": [],
   "source": [
    "import sys\n",
    "from PyQt5.QtWidgets import QApplication,QWidget,QMessageBox\n",
    "class MyWIndow(QWidget):\n",
    "    def __init__(self):\n",
    "        super().__init__()\n",
    "        self.initUI()\n",
    "    def initUI(self):\n",
    "        self.setGeometry(300,300,1000,600)\n",
    "        self.setWindowTitle('消息盒子')\n",
    "        self.show()\n",
    "        \n",
    "    def closeEvent(self,event):\n",
    "        reply=QMessageBox.question(self,'WARNNING','确认退出吗?',\n",
    "                                   QMessageBox.Yes|QMessageBox.No,\n",
    "                                  QMessageBox.No)\n",
    "        if reply==QMessageBox.Yes:\n",
    "            event.accept()\n",
    "        else:\n",
    "            event.ignore()\n",
    "            \n",
    "if __name__=='__main__':\n",
    "    app=QApplication(sys.argv)\n",
    "    mywin=MyWIndow()\n",
    "    app.exec_()"
   ]
  },
  {
   "cell_type": "markdown",
   "metadata": {},
   "source": [
    "如果我们关闭 QWidget控件，将产生 QCloseEvent 事件。修改控件特性我们需要重新实现 closeEvent() 事件处理程序。\n",
    "```\n",
    "reply = QMessageBox.question(self, '信息', '确认退出吗？', \n",
    "QMessageBox.Yes | QMessageBox.No, QMessageBox.No)\n",
    "```\n",
    "\n",
    "我们显示一个消息框，它有两个按钮：Yes和No。第一个字符串出现在标题栏。第二个字符串是对话框中显示的消息文本。第三个参数指定弹出的对话框中的按钮组合。最后一个参数是默认按钮，它是具有初始键盘焦点的按钮。返回值被存储在reply 变量中。\n",
    "```\n",
    "if reply == QMessageBox.Yes:\n",
    "    event.accept()\n",
    "else:\n",
    "    event.ignore()\n",
    "```\n",
    "在这里我们使用 if 测试返回值。如果我们点击 Yes 按钮，我们接受了按钮控件的关闭并执行应用程序的终止事件。否则，我们忽略关闭事件。\n",
    "\n",
    "程序执行后点击右上角的 x 弹出确认退出消息盒子 "
   ]
  },
  {
   "cell_type": "code",
   "execution_count": null,
   "metadata": {
    "collapsed": true
   },
   "outputs": [],
   "source": []
  }
 ],
 "metadata": {
  "anaconda-cloud": {},
  "kernelspec": {
   "display_name": "Python [Root]",
   "language": "python",
   "name": "Python [Root]"
  },
  "language_info": {
   "codemirror_mode": {
    "name": "ipython",
    "version": 3
   },
   "file_extension": ".py",
   "mimetype": "text/x-python",
   "name": "python",
   "nbconvert_exporter": "python",
   "pygments_lexer": "ipython3",
   "version": "3.5.1"
  }
 },
 "nbformat": 4,
 "nbformat_minor": 2
}
