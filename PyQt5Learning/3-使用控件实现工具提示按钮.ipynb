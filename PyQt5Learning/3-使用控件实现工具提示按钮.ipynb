{
 "cells": [
  {
   "cell_type": "code",
   "execution_count": 1,
   "metadata": {
    "collapsed": true
   },
   "outputs": [],
   "source": [
    "from PyQt5.QtWidgets import QApplication,QWidget,QToolTip,QPushButton\n",
    "import sys\n",
    "from PyQt5.QtGui import QFont\n",
    "\n",
    "class MyWindow(QWidget):\n",
    "    def __init__(self):\n",
    "        super().__init__()\n",
    "        self.initUI()\n",
    "    def initUI(self):\n",
    "        QToolTip.setFont(QFont('song',14))\n",
    "        self.setToolTip('这是一个<b>QWideget</b>控件')\n",
    "        btn=QPushButton('点我有提示',self)\n",
    "        btn.setToolTip('这是一个<b>QPushButton</b>控件')\n",
    "        btn.resize(btn.sizeHint())\n",
    "        btn.move(300,300)\n",
    "        \n",
    "        self.setGeometry(300,300,1000,600)\n",
    "        self.setWindowTitle('工具提示')\n",
    "        self.show()\n",
    "        \n",
    "if __name__=='__main__':\n",
    "    app=QApplication(sys.argv)\n",
    "    mywin=MyWindow()\n",
    "    app.exec_()"
   ]
  },
  {
   "cell_type": "markdown",
   "metadata": {},
   "source": [
    "在这个例子中，我们显示了两个PyQt5控件的工具提示。\n",
    "```\n",
    "QToolTip.setFont(QFont('楷体', 14))\n",
    "```\n",
    "这个静态方法设置用于工具提示的字体，我们使用 10px大小与 楷体 字体\n",
    "```\n",
    "self.setToolTip('这是一个 <b>QWidget</b> 控件')\n",
    "```\n",
    "为这个窗口控件创建一个工具提示，我们使用 setTooltip() 方法，显示的文字我们可以使用富文本格式。\n",
    "```\n",
    "btn = QPushButton('按钮', self)\n",
    "btn.setToolTip('这是一个 <b>QPushButton</b> 控件')\n",
    "```\n",
    "我们创建了一个按钮控件并设置该控件的工具提示。\n",
    "```\n",
    "btn.resize(btn.sizeHint())\n",
    "btn.move(50, 50)\n",
    "```\n",
    "设置按钮控件的大小与在窗体中的位置，sizeHint() 方法给了这个按钮一个推荐大小。"
   ]
  },
  {
   "cell_type": "code",
   "execution_count": null,
   "metadata": {
    "collapsed": true
   },
   "outputs": [],
   "source": []
  }
 ],
 "metadata": {
  "kernelspec": {
   "display_name": "Python 3",
   "language": "python",
   "name": "python3"
  },
  "language_info": {
   "codemirror_mode": {
    "name": "ipython",
    "version": 3
   },
   "file_extension": ".py",
   "mimetype": "text/x-python",
   "name": "python",
   "nbconvert_exporter": "python",
   "pygments_lexer": "ipython3",
   "version": "3.6.2"
  }
 },
 "nbformat": 4,
 "nbformat_minor": 2
}
