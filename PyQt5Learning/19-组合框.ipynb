{
 "cells": [
  {
   "cell_type": "markdown",
   "metadata": {},
   "source": [
    "## QComboBox\n",
    "QComboBox 是一个允许用户从列表选项中选择一项的控件。"
   ]
  },
  {
   "cell_type": "code",
   "execution_count": 1,
   "metadata": {
    "collapsed": false
   },
   "outputs": [],
   "source": [
    "import sys\n",
    "from PyQt5.QtWidgets import QApplication, QWidget, QLabel, QComboBox\n",
    "\n",
    "class Example(QWidget):\n",
    "\n",
    "    def __init__(self):\n",
    "        super().__init__()\n",
    "\n",
    "        self.initUI()\n",
    "\n",
    "    def initUI(self):\n",
    "\n",
    "        self.lb1 = QLabel('黑客帝国', self)\n",
    "\n",
    "        combo = QComboBox(self)\n",
    "        combo.addItem('黑客帝国')\n",
    "        combo.addItem('指环王')\n",
    "        combo.addItem('复仇车联盟')\n",
    "        combo.addItem('阿凡达')\n",
    "        combo.addItem('X战警')\n",
    "\n",
    "        combo.move(50, 50)\n",
    "        self.lb1.move(50, 150)\n",
    "\n",
    "        combo.activated[str].connect(self.onActivated)\n",
    "\n",
    "        self.setGeometry(300, 300, 300, 200)\n",
    "        self.setWindowTitle('组合框')        \n",
    "        self.show()\n",
    "\n",
    "    def onActivated(self, text):\n",
    "        self.lb1.setText(text)\n",
    "        self.lb1.adjustSize()\n",
    "\n",
    "if __name__ == '__main__':\n",
    "\n",
    "    app = QApplication(sys.argv)\n",
    "    ex = Example()\n",
    "    app.exec_()"
   ]
  },
  {
   "cell_type": "markdown",
   "metadata": {},
   "source": [
    "组合框中有五个选项。标签控件用来显示从组合框中所选的选项。\n",
    "```\n",
    "        combo = QComboBox(self)\n",
    "        combo.addItem('黑客帝国')\n",
    "        combo.addItem('指环王')\n",
    "        combo.addItem('复仇车联盟')\n",
    "        combo.addItem('阿凡达')\n",
    "        combo.addItem('X战警')\n",
    "```\n",
    "我们创建包含五个选项的QComboBox部件。\n",
    "```\n",
    "        combo.activated[str].connect(self.onActivated)\n",
    "```\n",
    "在QComboBox中选中项目，我们调用onActivated()方法。\n",
    "```\n",
    "    def onActivated(self, text):\n",
    "        self.lb1.setText(text)\n",
    "        self.lb1.adjustSize()\n",
    "```\n",
    "在onActivated()方法中，我们设置标签控件显示所选项目的文本。adjustSize()调整标签的大小。"
   ]
  },
  {
   "cell_type": "code",
   "execution_count": null,
   "metadata": {
    "collapsed": true
   },
   "outputs": [],
   "source": []
  }
 ],
 "metadata": {
  "anaconda-cloud": {},
  "kernelspec": {
   "display_name": "Python [Root]",
   "language": "python",
   "name": "Python [Root]"
  },
  "language_info": {
   "codemirror_mode": {
    "name": "ipython",
    "version": 3
   },
   "file_extension": ".py",
   "mimetype": "text/x-python",
   "name": "python",
   "nbconvert_exporter": "python",
   "pygments_lexer": "ipython3",
   "version": "3.5.1"
  }
 },
 "nbformat": 4,
 "nbformat_minor": 0
}
