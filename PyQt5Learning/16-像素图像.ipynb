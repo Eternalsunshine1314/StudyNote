{
 "cells": [
  {
   "cell_type": "markdown",
   "metadata": {},
   "source": [
    "## QPixmap\n",
    "QPixmap 像素图控件是用来处理图像的控件之一。它用于将优化后的图像显示在屏幕上。在我们的代码示例中，我们将使用QPixmap 控件在程序窗口上显示图像。"
   ]
  },
  {
   "cell_type": "code",
   "execution_count": 1,
   "metadata": {
    "collapsed": true
   },
   "outputs": [],
   "source": [
    "import sys\n",
    "from PyQt5.QtWidgets import QApplication,QWidget,QHBoxLayout,QLabel\n",
    "from PyQt5.QtGui import QPixmap\n",
    "\n",
    "class Example(QWidget):\n",
    "    def __init__(self):\n",
    "        super().__init__()\n",
    "        self.initUI()\n",
    "    def initUI(self):\n",
    "        hbox=QHBoxLayout(self)\n",
    "        pixmap=QPixmap('ty.jpeg')\n",
    "        \n",
    "        lab=QLabel(self)\n",
    "        lab.setPixmap(pixmap)\n",
    "        hbox.addWidget(lab)\n",
    "        self.setLayout(hbox)\n",
    "        \n",
    "        self.move(300,300)\n",
    "        self.setWindowTitle('像素图控件')\n",
    "        self.show()\n",
    "if __name__=='__main__':\n",
    "    app=QApplication(sys.argv)\n",
    "    ex=Example()\n",
    "    app.exec_()"
   ]
  },
  {
   "cell_type": "markdown",
   "metadata": {},
   "source": [
    "在我们的例子中，我们将图像显示在该程序的窗口上。\n",
    "```\n",
    "        pixmap = QPixmap('F:\\Python\\PyQt5\\Widgets\\images\\liutao.png')\n",
    "```\n",
    "我们创建的QPixmap 对象需要一个文件作为参数。\n",
    "```\n",
    "        lb1 = QLabel(self)\n",
    "        lb1.setPixmap(pixmap)\n",
    "```\n",
    "我们把QPixmap 对象映射到的QLabel 控件。"
   ]
  },
  {
   "cell_type": "code",
   "execution_count": null,
   "metadata": {
    "collapsed": true
   },
   "outputs": [],
   "source": []
  }
 ],
 "metadata": {
  "anaconda-cloud": {},
  "kernelspec": {
   "display_name": "Python [Root]",
   "language": "python",
   "name": "Python [Root]"
  },
  "language_info": {
   "codemirror_mode": {
    "name": "ipython",
    "version": 3
   },
   "file_extension": ".py",
   "mimetype": "text/x-python",
   "name": "python",
   "nbconvert_exporter": "python",
   "pygments_lexer": "ipython3",
   "version": "3.5.1"
  }
 },
 "nbformat": 4,
 "nbformat_minor": 2
}
