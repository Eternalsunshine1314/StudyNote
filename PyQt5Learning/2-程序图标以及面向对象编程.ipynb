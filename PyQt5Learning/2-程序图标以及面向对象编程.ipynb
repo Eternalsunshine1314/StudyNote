{
 "cells": [
  {
   "cell_type": "code",
   "execution_count": null,
   "metadata": {},
   "outputs": [],
   "source": [
    "import sys\n",
    "from PyQt5.QtWidgets import QApplication,QWidget\n",
    "from PyQt5.QtGui import QIcon\n",
    "\n",
    "class MyWindow(QWidget):\n",
    "    def __init__(self):\n",
    "        super().__init__()\n",
    "        self.Gui_init()\n",
    "    def Gui_init(self):\n",
    "        self.setGeometry(300,300,1000,500)\n",
    "        self.setWindowTitle('图标测试')\n",
    "        self.setWindowIcon(QIcon('icon-test.png'))\n",
    "        self.show()\n",
    "        \n",
    "if __name__=='__main__':\n",
    "    app=QApplication(sys.argv)\n",
    "    mywin=MyWindow()\n",
    "    sys.exit(app.exec_())"
   ]
  },
  {
   "cell_type": "markdown",
   "metadata": {
    "collapsed": true
   },
   "source": [
    "我们可以在上一个例子的基础上继续编写本实例。Python编程语言支持面向过程与面向对象编程风格，使用 PyQt5 编程即意味着OOP编程（OOP即面向对象编程）\n",
    "```\n",
    "class MyWindow(QWidget):\n",
    "    def __init__(self):\n",
    "        super().__init__()\n",
    "\n",
    "```\n",
    "面向对象编程的三大要素是：类、数据、方法（也就是函数）\n",
    "\n",
    "这里我们创建了一个名为Example 的类，Example 类继承自 QWidget 类。这意味着我们需要调用两个构造函数：第一个是Example 类自身的构造函数，第二个是继承自父类（QWidget ）的构造函数。super() 方法返回Example 类的父类，并调用父类的构造函数。_init_() 方法在Python语言中即是构造函数。\n",
    "```\n",
    "self.Gui_init()\n",
    "\n",
    "```\n",
    "调用 initUI() 方法，我们将所有窗体需要设置的内容放入该方法中。\n",
    "```\n",
    "self.setGeometry(300,300,1000,500)\n",
    "self.setWindowTitle('图标测试')\n",
    "self.setWindowIcon(QIcon('icon-test.png'))\n",
    "```\n",
    "三个方法均从 QWidget 类继承过来。setGeometry() 方法做了两件事情：窗口大小与显示在屏幕上的位置。前两该参数是窗口的x、y坐标位置，第三与第四个参数分别是窗口的宽度与高度。事实上，它是将 resize() 和 move() 两个方法合而为一的方法。最后一个方法设置了应用程序的图标，写到这里，我们已经创建了一个 QIcon 对象，QIcon 接收我们要显示的图标文件的路径。\n",
    "```\n",
    "if __name__=='__main__':\n",
    "    app=QApplication(sys.argv)\n",
    "    mywin=MyWindow()\n",
    "    sys.exit(app.exec_())\n",
    "```\n",
    "创建应用程序和实例对象。主循环被启动。"
   ]
  },
  {
   "cell_type": "code",
   "execution_count": null,
   "metadata": {
    "collapsed": true
   },
   "outputs": [],
   "source": []
  }
 ],
 "metadata": {
  "kernelspec": {
   "display_name": "Python 3",
   "language": "python",
   "name": "python3"
  },
  "language_info": {
   "codemirror_mode": {
    "name": "ipython",
    "version": 3
   },
   "file_extension": ".py",
   "mimetype": "text/x-python",
   "name": "python",
   "nbconvert_exporter": "python",
   "pygments_lexer": "ipython3",
   "version": "3.6.2"
  }
 },
 "nbformat": 4,
 "nbformat_minor": 2
}
