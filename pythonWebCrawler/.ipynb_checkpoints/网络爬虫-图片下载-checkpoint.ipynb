{
 "cells": [
  {
   "cell_type": "code",
   "execution_count": 1,
   "metadata": {
    "collapsed": true
   },
   "outputs": [],
   "source": [
    "import requests\n",
    "from bs4 import BeautifulSoup\n",
    "import re\n"
   ]
  },
  {
   "cell_type": "code",
   "execution_count": 2,
   "metadata": {
    "collapsed": false,
    "scrolled": true
   },
   "outputs": [
    {
     "name": "stdout",
     "output_type": "stream",
     "text": [
      "<!doctype html>\n",
      "<html>\n",
      "  <head>\n",
      "    <meta http-equiv=\"X-UA-Compatible\" content=\"IE=Edge\">\n",
      "    <meta name=\"viewport\" content=\"width=device-width,initial-scale=1,maximum-scale=1,user-scalable=no\">\n",
      "    <link rel=\"stylesheet\" href=\"/a/main.3776a.css\">\n",
      "    <link rel=\"preload\" as=\"script\" href=\"/a/main.3776a.js\">\n",
      "    <link rel=\"preload\" as=\"script\" href=\"/a/photos-route.main.4c2d9.js\">\n",
      "    <script type=\"text/javascript\">window.NREUM||(NREUM={});NREUM.info = {\"agent\":\"\",\"beacon\":\"bam.nr-data.net\",\"errorBeacon\":\"bam.nr-data.net\",\"licenseKey\":\"d44beae01c\",\"applicationID\":\"39264965\",\"applicationTime\":1.514439,\"transactionName\":\"NVFRNksCChJTUUNQCwwbdhpJEQESQVhEFiMnYBxNE0k=\",\"queueTime\":1,\"ttGuid\":\"1e10886fa94616\",\"agentToken\":null}; window.NREUM||(NREUM={}),__nr_require=function(e,n,t){function r(t){if(!n[t]){var o=n[t]={exports:{}};e[t][0].call(o.exports,function(n){var o=e[t][1][n];return r(o||n)},o,o.exports)}return n[t].exports}if(\"function\"==typeof __nr_require)return __nr_require;for(var o=0;o<t.length;o++)r(t[o]);return r}({1:[function(e,n,t){function r(){}function o(e,n,t){return function(){return i(e,[c.now()].concat(u(arguments)),n?null:this,t),n?void 0:this}}var i=e(\"handle\"),a=e(2),u=e(3),f=e(\"ee\").get(\"tracer\"),c=e(\"loader\"),s=NREUM;\"undefined\"==typeof window.newrelic&&(newrelic=s);var p=[\"setPageViewName\",\"setCustomAttribute\",\"setErrorHandler\",\"finished\",\"addToTrace\",\"inlineHit\",\"addRelease\"],d=\"api-\",l=d+\"ixn-\";a(p,function(e,n){s[n]=o(d+n,!0,\"api\")}),s.addPageAction=o(d+\"addPageAction\",!0),s.setCurrentRouteName=o(d+\"routeName\",!0),n.exports=newrelic,s.interaction=function(){return(new r).get()};var m=r.prototype={createTracer:function(e,n){var t={},r=this,o=\"function\"==typeof n;return i(l+\"tracer\",[c.now(),e,t],r),function(){if(f.emit((o?\"\":\"no-\")+\"fn-start\",[c.now(),r,o],t),o)try{return n.apply(this,arguments)}finally{f.emit(\"fn-end\",[c.now()],t)}}}};a(\"setName,setAttribute,save,ignore,onEnd,getContext,end,get\".split(\",\"),function(e,n){m[n]=o(l+n)}),newrelic.noticeError=function(e){\"string\"==typeof e&&(e=new Error(e)),i(\"err\",[e,c.now()])}},{}],2:[function(e,n,t){function r(e,n){var t=[],r=\"\",i=0;for(r in e)o.call(e,r)&&(t[i]=n(r,e[r]),i+=1);return t}var o=Object.prototype.hasOwnProperty;n.exports=r},{}],3:[function(e,n,t){function r(e,n,t){n||(n=0),\"undefined\"==typeof t&&(t=e?e.length:0);for(var r=-1,o=t-n||0,i=Array(o<0?0:o);++r<o;)i[r]=e[n+r];return i}n.exports=r},{}],4:[function(e,n,t){n.exports={exists:\"undefined\"!=typeof window.performance&&window.performance.timing&&\"undefined\"!=typeof window.performance.timing.navigationStart}},{}],ee:[function(e,n,t){function r(){}function o(e){function n(e){return e&&e instanceof r?e:e?f(e,u,i):i()}function t(t,r,o,i){if(!d.aborted||i){e&&e(t,r,o);for(var a=n(o),u=m(t),f=u.length,c=0;c<f;c++)u[c].apply(a,r);var p=s[y[t]];return p&&p.push([b,t,r,a]),a}}function l(e,n){v[e]=m(e).concat(n)}function m(e){return v[e]||[]}function w(e){return p[e]=p[e]||o(t)}function g(e,n){c(e,function(e,t){n=n||\"feature\",y[t]=n,n in s||(s[n]=[])})}var v={},y={},b={on:l,emit:t,get:w,listeners:m,context:n,buffer:g,abort:a,aborted:!1};return b}function i(){return new r}function a(){(s.api||s.feature)&&(d.aborted=!0,s=d.backlog={})}var u=\"nr@context\",f=e(\"gos\"),c=e(2),s={},p={},d=n.exports=o();d.backlog=s},{}],gos:[function(e,n,t){function r(e,n,t){if(o.call(e,n))return e[n];var r=t();if(Object.defineProperty&&Object.keys)try{return Object.defineProperty(e,n,{value:r,writable:!0,enumerable:!1}),r}catch(i){}return e[n]=r,r}var o=Object.prototype.hasOwnProperty;n.exports=r},{}],handle:[function(e,n,t){function r(e,n,t,r){o.buffer([e],r),o.emit(e,n,t)}var o=e(\"ee\").get(\"handle\");n.exports=r,r.ee=o},{}],id:[function(e,n,t){function r(e){var n=typeof e;return!e||\"object\"!==n&&\"function\"!==n?-1:e===window?0:a(e,i,function(){return o++})}var o=1,i=\"nr@id\",a=e(\"gos\");n.exports=r},{}],loader:[function(e,n,t){function r(){if(!x++){var e=h.info=NREUM.info,n=d.getElementsByTagName(\"script\")[0];if(setTimeout(s.abort,3e4),!(e&&e.licenseKey&&e.applicationID&&n))return s.abort();c(y,function(n,t){e[n]||(e[n]=t)}),f(\"mark\",[\"onload\",a()+h.offset],null,\"api\");var t=d.createElement(\"script\");t.src=\"https://\"+e.agent,n.parentNode.insertBefore(t,n)}}function o(){\"complete\"===d.readyState&&i()}function i(){f(\"mark\",[\"domContent\",a()+h.offset],null,\"api\")}function a(){return E.exists&&performance.now?Math.round(performance.now()):(u=Math.max((new Date).getTime(),u))-h.offset}var u=(new Date).getTime(),f=e(\"handle\"),c=e(2),s=e(\"ee\"),p=window,d=p.document,l=\"addEventListener\",m=\"attachEvent\",w=p.XMLHttpRequest,g=w&&w.prototype;NREUM.o={ST:setTimeout,SI:p.setImmediate,CT:clearTimeout,XHR:w,REQ:p.Request,EV:p.Event,PR:p.Promise,MO:p.MutationObserver};var v=\"\"+location,y={beacon:\"bam.nr-data.net\",errorBeacon:\"bam.nr-data.net\",agent:\"js-agent.newrelic.com/nr-1044.min.js\"},b=w&&g&&g[l]&&!/CriOS/.test(navigator.userAgent),h=n.exports={offset:u,now:a,origin:v,features:{},xhrWrappable:b};e(1),d[l]?(d[l](\"DOMContentLoaded\",i,!1),p[l](\"load\",r,!1)):(d[m](\"onreadystatechange\",o),p[m](\"onload\",r)),f(\"mark\",[\"firstbyte\",u],null,\"api\");var x=0,E=e(4)},{}]},{},[\"loader\"]);</script>\n",
      "    <link type=\"application/opensearchdescription+xml\" rel=\"search\" href=\"/a/opensearch.xml\">\n",
      "\n",
      "    <script src=\"/a/vendor.e3e43.js\"></script>\n",
      "    <script>\n",
      "  var _prum = [['id', '57229800abe53d715a91b0e8'],\n",
      "  ['mark', 'firstbyte', (new Date()).getTime()]];\n",
      "  (function() {\n",
      "    var s = document.getElementsByTagName('script')[0]\n",
      "          , p = document.createElement('script');\n",
      "        p.async = 'async';\n",
      "        p.src = '//rum-static.pingdom.net/prum.min.js';\n",
      "        s.parentNode.insertBefore(p, s);\n",
      "  })();\n",
      "</script>\n",
      "\n",
      "    <script>window.__TRACKING__ = {\"contexts\":[{\"schema\":\"iglu:com.unsplash/experiment/jsonschema/1-0-0\",\"data\":{\"chain\":\"COLLECTIONS_ONBOARDING:experiment\"}}]};</script>\n",
      "    <script>\n",
      "  (function(i,s,o,g,r,a,m){i['GoogleAnalyticsObject']=r;i[r]=i[r]||function(){\n",
      "  (i[r].q=i[r].q||[]).push(arguments)},i[r].l=1*new Date();a=s.createElement(o),\n",
      "  m=s.getElementsByTagName(o)[0];a.async=1;a.src=g;m.parentNode.insertBefore(a,m)\n",
      "  })(window,document,'script','//www.google-analytics.com/analytics.js','ga');\n",
      "\n",
      "  ga('create', 'UA-36049670-4', 'auto');\n",
      "</script>\n",
      "\n",
      "    <script>\n",
      "// Snowplow analytics (warehousing)\n",
      ";(function(p,l,o,w,i,n,g){if(!p[i]){p.GlobalSnowplowNamespace=p.GlobalSnowplowNamespace||[];\n",
      "p.GlobalSnowplowNamespace.push(i);p[i]=function(){(p[i].q=p[i].q||[]).push(arguments)\n",
      "};p[i].q=p[i].q||[];n=l.createElement(o);g=l.getElementsByTagName(o)[0];n.async=1;\n",
      "n.src=w;g.parentNode.insertBefore(n,g)}}(window,document,\"script\",\"https://download.unsplash.com/upload-1483398146984-2bb304c2db96\",\"snowplow\"));\n",
      "\n",
      "(function() {\n",
      "  window.snowplow('newTracker', 'sn-unsp-0', 'logger.unsplash.com', {\n",
      "    cookieDomain: '.unsplash.com',\n",
      "    platform: 'web',\n",
      "    contexts: {\n",
      "      webPage: true,\n",
      "      performanceTiming: true\n",
      "    }\n",
      "  });\n",
      "\n",
      "  if (__TRACKING__ !== undefined && __TRACKING__.userId) {\n",
      "    window.snowplow(\"setUserId\", __TRACKING__.userId);\n",
      "  }\n",
      "\n",
      "  window.snowplow('enableLinkClickTracking', {blacklist: ['untracked']});\n",
      "  window.snowplow('enableActivityTracking', 10, 10);\n",
      "})();\n",
      "</script>\n",
      "\n",
      "    <script>\n",
      "!function(f,b,e,v,n,t,s){if(f.fbq)return;n=f.fbq=function(){n.callMethod?\n",
      "n.callMethod.apply(n,arguments):n.queue.push(arguments)};if(!f._fbq)f._fbq=n;\n",
      "n.push=n;n.loaded=!0;n.version='2.0';n.queue=[];t=b.createElement(e);t.async=!0;\n",
      "t.src=v;s=b.getElementsByTagName(e)[0];s.parentNode.insertBefore(t,s)}(window,\n",
      "document,'script','https://connect.facebook.net/en_US/fbevents.js');\n",
      "fbq('init', '240405303052884');\n",
      "fbq('track', 'PageView');\n",
      "</script>\n",
      "<noscript><img height=\"1\" width=\"1\" style=\"display:none\" src=\"https://www.facebook.com/tr?id=240405303052884&ev=PageView&noscript=1\"></noscript>\n",
      "\n",
      "    <title>Beautiful Free Images | Unsplash</title>\n",
      "    <meta name=\"description\" content=\"Beautiful high quality free images and photos you can download and use for any project. No attribution required.\">\n",
      "    <meta name=\"twitter:site\" content=\"@unsplash\">\n",
      "    <meta name=\"twitter:title\" content=\"Beautiful Free Images | Unsplash\">\n",
      "    <meta name=\"twitter:description\" content=\"Beautiful high quality free images and photos you can download and use for any project. No attribution required.\">\n",
      "    <meta name=\"twitter:url\" content=\"https://unsplash.com\">\n",
      "    <meta name=\"twitter:card\" content=\"summary_large_image\">\n",
      "    <meta name=\"twitter:image\" content=\"https://images.unsplash.com/photo-1423034816855-245e5820ff8c?ixlib=rb-0.3.5&q=80&fm=jpg&crop=entropy&cs=tinysrgb&w=1080&fit=max&s=4c3aba2c3aa6e6ed7330e95f9e1d9590\">\n",
      "    <meta property=\"og:title\" content=\"Beautiful Free Images | Unsplash\">\n",
      "    <meta property=\"og:description\" content=\"Beautiful high quality free images and photos you can download and use for any project. No attribution required.\">\n",
      "    <meta property=\"og:url\" content=\"https://unsplash.com\">\n",
      "    <meta property=\"og:type\" content=\"website\">\n",
      "    <meta property=\"og:image\" content=\"http://images.unsplash.com/photo-1423034816855-245e5820ff8c?ixlib=rb-0.3.5&q=80&fm=jpg&crop=entropy&cs=tinysrgb&w=1080&fit=max&s=4c3aba2c3aa6e6ed7330e95f9e1d9590\">\n",
      "    <meta property=\"og:image:secure_url\" content=\"https://images.unsplash.com/photo-1423034816855-245e5820ff8c?ixlib=rb-0.3.5&q=80&fm=jpg&crop=entropy&cs=tinysrgb&w=1080&fit=max&s=4c3aba2c3aa6e6ed7330e95f9e1d9590\">\n",
      "    <link rel=\"canonical\" href=\"https://unsplash.com\">\n",
      "  </head>\n",
      "  <body>\n",
      "    <div id=\"app\"></div>\n",
      "    <script>window.__INITIAL_STATE__ = {\"ui\":{\"userPreferences\":{\"grid\":\"multi\",\"photoFeedHasUnseenPhotos\":true}},\"xp\":{\"COLLECTIONS_ONBOARDING\":{\"id\":\"collections-onboarding\",\"variant\":\"experiment\"}}};</script>\n",
      "    <script src=\"/a/main.3776a.js\"></script>\n",
      "  </body>\n",
      "</html>\n",
      "\n"
     ]
    }
   ],
   "source": [
    "target = 'https://unsplash.com/'\n",
    "req = requests.get(url=target)\n",
    "print(req.text)"
   ]
  },
  {
   "cell_type": "code",
   "execution_count": null,
   "metadata": {
    "collapsed": true
   },
   "outputs": [],
   "source": []
  }
 ],
 "metadata": {
  "kernelspec": {
   "display_name": "Python [Root]",
   "language": "python",
   "name": "Python [Root]"
  },
  "language_info": {
   "codemirror_mode": {
    "name": "ipython",
    "version": 3
   },
   "file_extension": ".py",
   "mimetype": "text/x-python",
   "name": "python",
   "nbconvert_exporter": "python",
   "pygments_lexer": "ipython3",
   "version": "3.5.1"
  }
 },
 "nbformat": 4,
 "nbformat_minor": 0
}
