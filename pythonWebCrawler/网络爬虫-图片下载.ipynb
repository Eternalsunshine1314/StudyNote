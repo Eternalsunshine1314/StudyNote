{
 "cells": [
  {
   "cell_type": "code",
   "execution_count": 2,
   "metadata": {
    "collapsed": true
   },
   "outputs": [],
   "source": [
    "import requests\n",
    "from bs4 import BeautifulSoup\n",
    "import re\n"
   ]
  },
  {
   "cell_type": "code",
   "execution_count": 4,
   "metadata": {
    "collapsed": false,
    "scrolled": true
   },
   "outputs": [
    {
     "name": "stderr",
     "output_type": "stream",
     "text": [
      "/home/wenshao/anaconda3/lib/python3.5/site-packages/requests/packages/urllib3/connectionpool.py:852: InsecureRequestWarning: Unverified HTTPS request is being made. Adding certificate verification is strongly advised. See: https://urllib3.readthedocs.io/en/latest/advanced-usage.html#ssl-warnings\n",
      "  InsecureRequestWarning)\n"
     ]
    },
    {
     "name": "stdout",
     "output_type": "stream",
     "text": [
      "{\"errors\":[\"Unable to find endpoint\"]}\n"
     ]
    }
   ],
   "source": [
    "# -*- coding:UTF-8 -*-\n",
    "import requests, json, time, sys\n",
    "from contextlib import closing\n",
    "\n",
    "class get_photos(object):\n",
    "\n",
    "    def __init__(self):\n",
    "        self.photos_id = []\n",
    "        self.download_server = 'https://unsplash.com/photos/xxx/download?force=trues'\n",
    "        self.target = 'http://unsplash.com/napi/feeds/home'\n",
    "        self.headers = {'authorization':'your Client-ID'}\n",
    "\n",
    "    \"\"\"\n",
    "    函数说明:获取图片ID\n",
    "    Parameters:\n",
    "        无\n",
    "    Returns:\n",
    "        无\n",
    "    Modify:\n",
    "        2017-09-13\n",
    "    \"\"\" \n",
    "    def get_ids(self):\n",
    "        req = requests.get(url=self.target, headers=self.headers, verify=False)\n",
    "        html = json.loads(req.text)\n",
    "        next_page = html['next_page']\n",
    "        for each in html['photos']:\n",
    "            self.photos_id.append(each['id'])\n",
    "        time.sleep(1)\n",
    "        for i in range(4):\n",
    "            req = requests.get(url=next_page, headers=self.headers, verify=False)\n",
    "            html = json.loads(req.text)\n",
    "            next_page = html['next_page']\n",
    "            for each in html['photos']:\n",
    "                self.photos_id.append(each['id'])\n",
    "            time.sleep(1)\n",
    "\n",
    "\n",
    "    \"\"\"\n",
    "    函数说明:图片下载\n",
    "    Parameters:\n",
    "        无\n",
    "    Returns:\n",
    "        无\n",
    "    Modify:\n",
    "        2017-09-13\n",
    "    \"\"\" \n",
    "    def download(self, photo_id, filename):\n",
    "        headers = {'User-Agent':'Mozilla/5.0 (Windows NT 6.1; WOW64) AppleWebKit/537.36 (KHTML, like Gecko) Chrome/61.0.3163.79 Safari/537.36'}\n",
    "        target = self.download_server.replace('xxx', photo_id)\n",
    "        with closing(requests.get(url=target, stream=True, verify = False, headers = self.headers)) as r:\n",
    "            with open('%d.jpg' % filename, 'ab+') as f:\n",
    "                for chunk in r.iter_content(chunk_size = 1024):\n",
    "                    if chunk:\n",
    "                        f.write(chunk)\n",
    "                        f.flush()\n",
    "\n",
    "if __name__ == '__main__':\n",
    "    gp = get_photos()\n",
    "    print('获取图片连接中:')\n",
    "    gp.get_ids()\n",
    "    print('图片下载中:')\n",
    "    for i in range(len(gp.photos_id)):\n",
    "        print('  正在下载第%d张图片' % (i+1))\n",
    "        gp.download(gp.photos_id[i], (i+1))"
   ]
  },
  {
   "cell_type": "code",
   "execution_count": null,
   "metadata": {
    "collapsed": true
   },
   "outputs": [],
   "source": []
  }
 ],
 "metadata": {
  "anaconda-cloud": {},
  "kernelspec": {
   "display_name": "Python [Root]",
   "language": "python",
   "name": "Python [Root]"
  },
  "language_info": {
   "codemirror_mode": {
    "name": "ipython",
    "version": 3
   },
   "file_extension": ".py",
   "mimetype": "text/x-python",
   "name": "python",
   "nbconvert_exporter": "python",
   "pygments_lexer": "ipython3",
   "version": "3.5.1"
  }
 },
 "nbformat": 4,
 "nbformat_minor": 0
}
