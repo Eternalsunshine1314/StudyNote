{
 "cells": [
  {
   "cell_type": "code",
   "execution_count": 1,
   "metadata": {
    "collapsed": true
   },
   "outputs": [],
   "source": [
    "import re"
   ]
  },
  {
   "cell_type": "code",
   "execution_count": 16,
   "metadata": {},
   "outputs": [
    {
     "name": "stdout",
     "output_type": "stream",
     "text": [
      "yes\n"
     ]
    }
   ],
   "source": [
    "#定义字符串\n",
    "line='hello123worleed'\n",
    "regex_str='^h.*d$'#字符串的开始和结束\n",
    "match_obj=re.match(regex_str,line)\n",
    "if match_obj:\n",
    "    print('yes')"
   ]
  },
  {
   "cell_type": "code",
   "execution_count": 22,
   "metadata": {},
   "outputs": [
    {
     "name": "stdout",
     "output_type": "stream",
     "text": [
      "edsd55\n"
     ]
    }
   ],
   "source": [
    "#定义字符串\n",
    "line='hell5o123worledsd55d'\n",
    "regex_str='.*(e.*5).*'#贪婪匹配\n",
    "#regex_str='.*?(e.*?e).*'#非贪婪匹配\n",
    "match_obj=re.match(regex_str,line)\n",
    "if match_obj:\n",
    "    print(match_obj.group(1))"
   ]
  },
  {
   "cell_type": "code",
   "execution_count": 24,
   "metadata": {},
   "outputs": [
    {
     "name": "stdout",
     "output_type": "stream",
     "text": [
      "edsd5e5\n"
     ]
    }
   ],
   "source": [
    "#+号\n",
    "#定义字符串\n",
    "line='hell5o123worledsd5e5d'\n",
    "regex_str='.*(e.+5).*'#贪婪匹配\n",
    "#regex_str='.*?(e.*?e).*'#非贪婪匹配\n",
    "match_obj=re.match(regex_str,line)\n",
    "if match_obj:\n",
    "    print(match_obj.group(1))"
   ]
  },
  {
   "cell_type": "code",
   "execution_count": 25,
   "metadata": {},
   "outputs": [
    {
     "name": "stdout",
     "output_type": "stream",
     "text": [
      "ell5\n"
     ]
    }
   ],
   "source": [
    "#{}号\n",
    "line='hell5o123worledsd5e5d'\n",
    "regex_str='.*(e.{2}5).*'#贪婪匹配\n",
    "#regex_str='.*?(e.*?e).*'#非贪婪匹配\n",
    "match_obj=re.match(regex_str,line)\n",
    "if match_obj:\n",
    "    print(match_obj.group(1))"
   ]
  },
  {
   "cell_type": "code",
   "execution_count": 28,
   "metadata": {},
   "outputs": [
    {
     "name": "stdout",
     "output_type": "stream",
     "text": [
      "body\n"
     ]
    }
   ],
   "source": [
    "# |号 ()\n",
    "#定义字符串\n",
    "line='body123'\n",
    "regex_str='(body|body123)'#贪婪匹配\n",
    "#regex_str='.*?(e.*?e).*'#非贪婪匹配\n",
    "match_obj=re.match(regex_str,line)\n",
    "if match_obj:\n",
    "    print(match_obj.group(1))"
   ]
  },
  {
   "cell_type": "code",
   "execution_count": 33,
   "metadata": {},
   "outputs": [
    {
     "name": "stdout",
     "output_type": "stream",
     "text": [
      "15678910431\n"
     ]
    }
   ],
   "source": [
    "# []号\n",
    "#定义字符串\n",
    "line='body123'\n",
    "line2='15678910431'\n",
    "#regex_str='([abcd]ody123)'#贪婪匹配\n",
    "#regex_str='.*?(e.*?e).*'#非贪婪匹配\n",
    "regex_str='(1[4578][0-9]{9})'\n",
    "regex_str='(1[4578][^1]{9})'\n",
    "regex_str='(1[4578][.*]{9})'\n",
    "match_obj=re.match(regex_str,line2)\n",
    "if match_obj:\n",
    "    print(match_obj.group(1))"
   ]
  },
  {
   "cell_type": "code",
   "execution_count": 49,
   "metadata": {},
   "outputs": [
    {
     "name": "stdout",
     "output_type": "stream",
     "text": [
      "hellosworld\n"
     ]
    }
   ],
   "source": [
    "# \\s 和\\S\n",
    "#定义字符串\n",
    "line='hello world'\n",
    "line2='hellosworld'\n",
    "#regex_str='([abcd]ody123)'#贪婪匹配\n",
    "#regex_str='.*?(e.*?e).*'#非贪婪匹配\n",
    "regex_str='(hello\\Sworld)'\n",
    "match_obj=re.match(regex_str,line2)\n",
    "if match_obj:\n",
    "    print(match_obj.group(1))"
   ]
  },
  {
   "cell_type": "code",
   "execution_count": 45,
   "metadata": {},
   "outputs": [
    {
     "name": "stdout",
     "output_type": "stream",
     "text": [
      "你_好\n"
     ]
    }
   ],
   "source": [
    "# \\w\n",
    "#定义字符串\n",
    "line='你_好'\n",
    "line2='hellowworld'\n",
    "#regex_str='([abcd]ody123)'#贪婪匹配\n",
    "#regex_str='.*?(e.*?e).*'#非贪婪匹配\n",
    "regex_str='(你\\w好)'\n",
    "match_obj=re.match(regex_str,line)\n",
    "if match_obj:\n",
    "    print(match_obj.group(1))"
   ]
  },
  {
   "cell_type": "code",
   "execution_count": 55,
   "metadata": {},
   "outputs": [
    {
     "name": "stdout",
     "output_type": "stream",
     "text": [
      "南京大学\n"
     ]
    }
   ],
   "source": [
    "#提取中文\n",
    "line='study in 南京大学'\n",
    "regex_str='.*?([\\u4E00-\\u9FA5]+大学)'\n",
    "match_obj=re.match(regex_str,line)\n",
    "if match_obj:\n",
    "    print(match_obj.group(1))"
   ]
  },
  {
   "cell_type": "code",
   "execution_count": 58,
   "metadata": {},
   "outputs": [
    {
     "name": "stdout",
     "output_type": "stream",
     "text": [
      "1995\n"
     ]
    }
   ],
   "source": [
    "#/d\n",
    "line='我出生在1995年'\n",
    "regex_str='.*?(\\d+)年'#取消贪婪\n",
    "regex_str='.*(\\d{4})年'#另一种方法\n",
    "match_obj=re.match(regex_str, line)\n",
    "if match_obj:\n",
    "    print(match_obj.group(1))"
   ]
  },
  {
   "cell_type": "code",
   "execution_count": 69,
   "metadata": {},
   "outputs": [
    {
     "name": "stdout",
     "output_type": "stream",
     "text": [
      "1995/7/11\n"
     ]
    }
   ],
   "source": [
    "line1='xxx出生在1995年7月11日'\n",
    "line2='xxx出生在1995/7/11'\n",
    "line3='xxx出生在1995-7-11'\n",
    "line4='xxx出生在1995-07-11'\n",
    "line5='xxx出生在1995-07'\n",
    "regex_str='.*出生在(\\d{4}[年/-]\\d{1,2}([月/-](\\d{1,2}.*|$)|$))'\n",
    "match_obj=re.match(regex_str, line2)\n",
    "if match_obj:\n",
    "    print(match_obj.group(1))"
   ]
  },
  {
   "cell_type": "code",
   "execution_count": null,
   "metadata": {},
   "outputs": [],
   "source": [
    ""
   ]
  },
  {
   "cell_type": "code",
   "execution_count": 4,
   "metadata": {},
   "outputs": [],
   "source": [
    "import scrapy"
   ]
  },
  {
   "cell_type": "code",
   "execution_count": null,
   "metadata": {},
   "outputs": [],
   "source": [
    ""
   ]
  }
 ],
 "metadata": {
  "kernelspec": {
   "display_name": "Python 2",
   "language": "python",
   "name": "python2"
  },
  "language_info": {
   "codemirror_mode": {
    "name": "ipython",
    "version": 2.0
   },
   "file_extension": ".py",
   "mimetype": "text/x-python",
   "name": "python",
   "nbconvert_exporter": "python",
   "pygments_lexer": "ipython2",
   "version": "2.7.6"
  }
 },
 "nbformat": 4,
 "nbformat_minor": 0
}