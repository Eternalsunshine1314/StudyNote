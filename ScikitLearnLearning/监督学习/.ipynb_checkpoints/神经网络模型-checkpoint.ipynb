{
 "cells": [
  {
   "cell_type": "markdown",
   "metadata": {},
   "source": [
    "## 半监督学习\n",
    "半监督学习是一种情况，在您的培训数据中，一些样本没有标记。半监督估计器sklearn.semi_supervised能够利用这些附加的未标记数据来更好地捕获底层数据分布的形状，并将其更好地推广到新的样本。当我们有非常少量的标记点和大量的未标记点时，这些算法可以表现良好。\n",
    "y中未标记的条目\n",
    "在使用该fit方法训练模型时，必须将标识符与标记数据一起分配给未标记的点。此实现使用的标识符是整数值-1。"
   ]
  },
  {
   "cell_type": "markdown",
   "metadata": {},
   "source": [
    "## 多层感知器\n",
    "多层感知器（MLP）是一种受监督的学习算法，通过在数据集上进行训练来学习功能米，输入的维数在哪里，是Ø输出的维数。给定一组特征 和目标ÿ，它可以学习用于分类或回归的非线性函数近似。与逻辑回归不同，在输入和输出层之间，可以有一个或多个非线性层，称为隐藏层。图1显示了一个具有标量输出的隐层MLP。"
   ]
  },
  {
   "cell_type": "markdown",
   "metadata": {},
   "source": [
    "### 多层感知器的优点是：\n",
    "* 学习非线性模型的能力。\n",
    "* 能够实时学习模型（在线学习）partial_fit。\n",
    "### 多层感知器（MLP）的缺点包括：\n",
    "* 具有隐层的MLP具有非凸失去函数，其中存在多于一个局部最小值。因此，不同的随机权重初始化可能导致不同的验证精度。\n",
    "* MLP需要调整许多超参数，例如隐藏的神经元，层和迭代的数量。\n",
    "* MLP对特征缩放很敏感。"
   ]
  },
  {
   "cell_type": "markdown",
   "metadata": {},
   "source": [
    "### 分类\n",
    "Class MLPClassifier实现了使用Backpropagation进行训练的多层感知器（MLP）算法。\n",
    "MLP列在两个阵列上：大小为（n_samples，n_features）的阵列X，其保存表示为浮点特征向量的训练样本; 和大小（n_samples，）的数组y，它们保存训练样本的目标值（类标签）："
   ]
  },
  {
   "cell_type": "code",
   "execution_count": 4,
   "metadata": {},
   "outputs": [
    {
     "data": {
      "text/plain": [
       "MLPClassifier(activation='relu', alpha=1e-05, batch_size='auto', beta_1=0.9,\n",
       "       beta_2=0.999, early_stopping=False, epsilon=1e-08,\n",
       "       hidden_layer_sizes=(5, 2), learning_rate='constant',\n",
       "       learning_rate_init=0.001, max_iter=200, momentum=0.9,\n",
       "       nesterovs_momentum=True, power_t=0.5, random_state=1, shuffle=True,\n",
       "       solver='lbfgs', tol=0.0001, validation_fraction=0.1, verbose=False,\n",
       "       warm_start=False)"
      ]
     },
     "execution_count": 4,
     "metadata": {},
     "output_type": "execute_result"
    }
   ],
   "source": [
    "from sklearn.neural_network import MLPClassifier\n",
    "X = [[0., 0.], [1., 1.]]\n",
    "y = [0, 1]\n",
    "clf = MLPClassifier(solver='lbfgs', alpha=1e-5,\n",
    "                    hidden_layer_sizes=(5, 2), random_state=1)\n",
    "clf.fit(X,y)"
   ]
  },
  {
   "cell_type": "code",
   "execution_count": 5,
   "metadata": {},
   "outputs": [
    {
     "data": {
      "text/plain": [
       "array([1, 0])"
      ]
     },
     "execution_count": 5,
     "metadata": {},
     "output_type": "execute_result"
    }
   ],
   "source": [
    "clf.predict([[2., 2.], [-1., -2.]])"
   ]
  },
  {
   "cell_type": "code",
   "execution_count": 7,
   "metadata": {},
   "outputs": [
    {
     "name": "stdout",
     "output_type": "stream",
     "text": [
      "[array([[-0.14196276, -0.02104562, -0.85522848, -3.51355396, -0.60434709],\n",
      "       [-0.69744683, -0.9347486 , -0.26422217, -3.35199017,  0.06640954]]), array([[ 0.29164405, -0.14147894],\n",
      "       [ 2.39665167, -0.6152434 ],\n",
      "       [-0.51650256,  0.51452834],\n",
      "       [ 4.0186541 , -0.31920293],\n",
      "       [ 0.32903482,  0.64394475]]), array([[-4.53025854],\n",
      "       [-0.86285329]])]\n"
     ]
    }
   ],
   "source": [
    "print([coef for coef in clf.coefs_])"
   ]
  },
  {
   "cell_type": "code",
   "execution_count": 8,
   "metadata": {},
   "outputs": [
    {
     "name": "stdout",
     "output_type": "stream",
     "text": [
      "[(2, 5), (5, 2), (2, 1)]\n"
     ]
    }
   ],
   "source": [
    "print([coef.shape for coef in clf.coefs_])"
   ]
  },
  {
   "cell_type": "markdown",
   "metadata": {},
   "source": [
    "目前，MLPClassifier只支持交叉熵损失函数，通过运行该predict_proba方法可以进行概率估计 。\n",
    "使用反向传播的MLP列车。更准确地说，它使用某种形式的梯度下降训练，并且使用反向传播计算梯度。对于分类，它最小化交叉熵损失函数，给出每个样本的概率估计向量X："
   ]
  },
  {
   "cell_type": "code",
   "execution_count": 9,
   "metadata": {},
   "outputs": [
    {
     "data": {
      "text/plain": [
       "array([[  1.96718015e-04,   9.99803282e-01],\n",
       "       [  1.96718015e-04,   9.99803282e-01]])"
      ]
     },
     "execution_count": 9,
     "metadata": {},
     "output_type": "execute_result"
    }
   ],
   "source": [
    "clf.predict_proba([[2., 2.], [1., 2.]]) "
   ]
  },
  {
   "cell_type": "markdown",
   "metadata": {},
   "source": [
    "### MLPClassifier通过应用Softmax 作为输出功能支持多类分类。\n",
    "此外，该模型支持多标签分类 ，其中样本可以属于多个类。对于每个类，原始输出通过逻辑函数。大于或等于0.5的值 将舍入为1，否则为0。对于样本的预测输出，值为1的索引表示该样本的分配类别："
   ]
  },
  {
   "cell_type": "code",
   "execution_count": 10,
   "metadata": {},
   "outputs": [
    {
     "data": {
      "text/plain": [
       "array([[1, 1]])"
      ]
     },
     "execution_count": 10,
     "metadata": {},
     "output_type": "execute_result"
    }
   ],
   "source": [
    "X = [[0., 0.], [1., 1.]]\n",
    "y = [[0, 1], [1, 1]]\n",
    "clf = MLPClassifier(solver='lbfgs', alpha=1e-5,\n",
    "                    hidden_layer_sizes=(15,), random_state=1)\n",
    "clf.fit(X, y)\n",
    "clf.predict([[1., 2.]])"
   ]
  },
  {
   "cell_type": "code",
   "execution_count": null,
   "metadata": {
    "collapsed": true
   },
   "outputs": [],
   "source": []
  }
 ],
 "metadata": {
  "kernelspec": {
   "display_name": "Python [default]",
   "language": "python",
   "name": "python3"
  },
  "language_info": {
   "codemirror_mode": {
    "name": "ipython",
    "version": 3
   },
   "file_extension": ".py",
   "mimetype": "text/x-python",
   "name": "python",
   "nbconvert_exporter": "python",
   "pygments_lexer": "ipython3",
   "version": "3.5.1"
  }
 },
 "nbformat": 4,
 "nbformat_minor": 1
}
